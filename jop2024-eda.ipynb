{
 "cells": [
  {
   "cell_type": "markdown",
   "metadata": {},
   "source": [
    "# Défis open data : JOP2024 et offre culturelle"
   ]
  },
  {
   "cell_type": "code",
   "execution_count": 1,
   "metadata": {},
   "outputs": [],
   "source": [
    "import json\n",
    "\n",
    "import pandas as pd"
   ]
  },
  {
   "cell_type": "markdown",
   "metadata": {},
   "source": [
    "## Jeu de données : sites de compétition"
   ]
  },
  {
   "cell_type": "code",
   "execution_count": 2,
   "metadata": {},
   "outputs": [],
   "source": [
    "with open(\"datasets/paris-2024-sites-de-competition.json\", \"r\", encoding=\"utf-8\") as f:\n",
    "    data = json.load(f)\n",
    "\n",
    "df = pd.json_normalize(data)"
   ]
  },
  {
   "cell_type": "code",
   "execution_count": 22,
   "metadata": {},
   "outputs": [
    {
     "data": {
      "text/html": [
       "<div>\n",
       "<style scoped>\n",
       "    .dataframe tbody tr th:only-of-type {\n",
       "        vertical-align: middle;\n",
       "    }\n",
       "\n",
       "    .dataframe tbody tr th {\n",
       "        vertical-align: top;\n",
       "    }\n",
       "\n",
       "    .dataframe thead th {\n",
       "        text-align: right;\n",
       "    }\n",
       "</style>\n",
       "<table border=\"1\" class=\"dataframe\">\n",
       "  <thead>\n",
       "    <tr style=\"text-align: right;\">\n",
       "      <th></th>\n",
       "      <th>code_site</th>\n",
       "      <th>nom_site</th>\n",
       "      <th>category_id</th>\n",
       "      <th>sports</th>\n",
       "      <th>start_date</th>\n",
       "      <th>end_date</th>\n",
       "      <th>adress</th>\n",
       "      <th>latitude</th>\n",
       "      <th>longitude</th>\n",
       "      <th>point_geo.lon</th>\n",
       "      <th>point_geo.lat</th>\n",
       "    </tr>\n",
       "  </thead>\n",
       "  <tbody>\n",
       "    <tr>\n",
       "      <th>4</th>\n",
       "      <td>CPL</td>\n",
       "      <td>Arena Porte de la Chapelle</td>\n",
       "      <td>venue-paralympic</td>\n",
       "      <td>Para badminton (PBDM), Para Haltérophilie (PPWL)</td>\n",
       "      <td>2024-08-29</td>\n",
       "      <td>2024-09-08</td>\n",
       "      <td>None</td>\n",
       "      <td>48,8997292</td>\n",
       "      <td>2,3605141</td>\n",
       "      <td>2.360514</td>\n",
       "      <td>48.899729</td>\n",
       "    </tr>\n",
       "    <tr>\n",
       "      <th>3</th>\n",
       "      <td>CPL</td>\n",
       "      <td>Arena Porte de la Chapelle</td>\n",
       "      <td>venue-olympic</td>\n",
       "      <td>Badminton (BDM), Gymnastique rythmique (GRY)</td>\n",
       "      <td>2024-07-27</td>\n",
       "      <td>2024-08-10</td>\n",
       "      <td>None</td>\n",
       "      <td>48,8997292</td>\n",
       "      <td>2,3605141</td>\n",
       "      <td>2.360514</td>\n",
       "      <td>48.899729</td>\n",
       "    </tr>\n",
       "    <tr>\n",
       "      <th>56</th>\n",
       "      <td>SP4</td>\n",
       "      <td>Arena Paris Sud 4</td>\n",
       "      <td>venue-olympic</td>\n",
       "      <td>Tennis de table (TTE)</td>\n",
       "      <td>2024-07-27</td>\n",
       "      <td>2024-08-10</td>\n",
       "      <td>None</td>\n",
       "      <td>48,830184</td>\n",
       "      <td>2,289033</td>\n",
       "      <td>2.289033</td>\n",
       "      <td>48.830184</td>\n",
       "    </tr>\n",
       "    <tr>\n",
       "      <th>14</th>\n",
       "      <td>NPA</td>\n",
       "      <td>Arena Paris Nord</td>\n",
       "      <td>venue-paralympic</td>\n",
       "      <td>Volleyball assis (PVBS)</td>\n",
       "      <td>2024-08-29</td>\n",
       "      <td>2024-09-07</td>\n",
       "      <td>None</td>\n",
       "      <td>48,9721</td>\n",
       "      <td>2,5149</td>\n",
       "      <td>2.514900</td>\n",
       "      <td>48.972100</td>\n",
       "    </tr>\n",
       "    <tr>\n",
       "      <th>59</th>\n",
       "      <td>STA</td>\n",
       "      <td>Stade de France</td>\n",
       "      <td>venue-paralympic</td>\n",
       "      <td>Para Athlétisme (PATH), Cérémonie de clôture P...</td>\n",
       "      <td>2024-08-30</td>\n",
       "      <td>2024-09-08</td>\n",
       "      <td>None</td>\n",
       "      <td>48,924475</td>\n",
       "      <td>2,360127</td>\n",
       "      <td>2.360127</td>\n",
       "      <td>48.924475</td>\n",
       "    </tr>\n",
       "  </tbody>\n",
       "</table>\n",
       "</div>"
      ],
      "text/plain": [
       "   code_site                    nom_site       category_id  \\\n",
       "4        CPL  Arena Porte de la Chapelle  venue-paralympic   \n",
       "3        CPL  Arena Porte de la Chapelle     venue-olympic   \n",
       "56       SP4           Arena Paris Sud 4     venue-olympic   \n",
       "14       NPA            Arena Paris Nord  venue-paralympic   \n",
       "59       STA             Stade de France  venue-paralympic   \n",
       "\n",
       "                                               sports  start_date    end_date  \\\n",
       "4    Para badminton (PBDM), Para Haltérophilie (PPWL)  2024-08-29  2024-09-08   \n",
       "3        Badminton (BDM), Gymnastique rythmique (GRY)  2024-07-27  2024-08-10   \n",
       "56                              Tennis de table (TTE)  2024-07-27  2024-08-10   \n",
       "14                            Volleyball assis (PVBS)  2024-08-29  2024-09-07   \n",
       "59  Para Athlétisme (PATH), Cérémonie de clôture P...  2024-08-30  2024-09-08   \n",
       "\n",
       "   adress    latitude  longitude  point_geo.lon  point_geo.lat  \n",
       "4    None  48,8997292  2,3605141       2.360514      48.899729  \n",
       "3    None  48,8997292  2,3605141       2.360514      48.899729  \n",
       "56   None   48,830184   2,289033       2.289033      48.830184  \n",
       "14   None     48,9721     2,5149       2.514900      48.972100  \n",
       "59   None   48,924475   2,360127       2.360127      48.924475  "
      ]
     },
     "execution_count": 22,
     "metadata": {},
     "output_type": "execute_result"
    }
   ],
   "source": [
    "df.sample(5)"
   ]
  },
  {
   "cell_type": "code",
   "execution_count": 36,
   "metadata": {},
   "outputs": [
    {
     "data": {
      "text/plain": [
       "Index(['code_site', 'nom_site', 'category_id', 'sports', 'start_date',\n",
       "       'end_date', 'adress', 'latitude', 'longitude', 'point_geo.lon',\n",
       "       'point_geo.lat'],\n",
       "      dtype='object')"
      ]
     },
     "execution_count": 36,
     "metadata": {},
     "output_type": "execute_result"
    }
   ],
   "source": [
    "df.columns"
   ]
  },
  {
   "cell_type": "code",
   "execution_count": 3,
   "metadata": {},
   "outputs": [
    {
     "data": {
      "text/plain": [
       "(63, 11)"
      ]
     },
     "execution_count": 3,
     "metadata": {},
     "output_type": "execute_result"
    }
   ],
   "source": [
    "df.shape"
   ]
  },
  {
   "cell_type": "code",
   "execution_count": 45,
   "metadata": {},
   "outputs": [
    {
     "data": {
      "text/plain": [
       "code_site                object\n",
       "nom_site                 object\n",
       "category_id              object\n",
       "sports                   object\n",
       "start_date       datetime64[ns]\n",
       "end_date                 object\n",
       "adress                   object\n",
       "latitude                 object\n",
       "longitude                object\n",
       "point_geo.lon           float64\n",
       "point_geo.lat           float64\n",
       "dtype: object"
      ]
     },
     "execution_count": 45,
     "metadata": {},
     "output_type": "execute_result"
    }
   ],
   "source": [
    "df.dtypes"
   ]
  },
  {
   "cell_type": "markdown",
   "metadata": {},
   "source": [
    "`latitude` et `longitude` ne sont pas intéressantes :\n",
    "* en doublon avec `point_geo.lon` et `point_geo.lat` ;\n",
    "* pas au format numérique.\n",
    "\n",
    "Les dates ne sont pas au bon format, essayons de les convertir."
   ]
  },
  {
   "cell_type": "code",
   "execution_count": 48,
   "metadata": {},
   "outputs": [
    {
     "data": {
      "text/plain": [
       "start_date    datetime64[ns]\n",
       "end_date      datetime64[ns]\n",
       "dtype: object"
      ]
     },
     "execution_count": 48,
     "metadata": {},
     "output_type": "execute_result"
    }
   ],
   "source": [
    "df[\"start_date\"] = pd.to_datetime(df[\"start_date\"])\n",
    "df[\"end_date\"] = pd.to_datetime(df[\"end_date\"])\n",
    "\n",
    "df[[\"start_date\", \"end_date\"]].dtypes"
   ]
  },
  {
   "cell_type": "markdown",
   "metadata": {},
   "source": [
    "La conversion a fonctionné sans erreur."
   ]
  },
  {
   "cell_type": "code",
   "execution_count": 49,
   "metadata": {},
   "outputs": [
    {
     "data": {
      "text/plain": [
       "code_site        44\n",
       "nom_site         44\n",
       "category_id       2\n",
       "sports           56\n",
       "start_date       15\n",
       "end_date         18\n",
       "adress            0\n",
       "latitude         43\n",
       "longitude        43\n",
       "point_geo.lon    43\n",
       "point_geo.lat    43\n",
       "dtype: int64"
      ]
     },
     "execution_count": 49,
     "metadata": {},
     "output_type": "execute_result"
    }
   ],
   "source": [
    "df.nunique()"
   ]
  },
  {
   "cell_type": "code",
   "execution_count": 40,
   "metadata": {},
   "outputs": [
    {
     "data": {
      "text/plain": [
       "array(['venue-olympic', 'venue-paralympic'], dtype=object)"
      ]
     },
     "execution_count": 40,
     "metadata": {},
     "output_type": "execute_result"
    }
   ],
   "source": [
    "df[\"category_id\"].unique()"
   ]
  },
  {
   "cell_type": "code",
   "execution_count": 30,
   "metadata": {},
   "outputs": [
    {
     "data": {
      "text/plain": [
       "code_site\n",
       "ALX    2\n",
       "BCY    2\n",
       "CDM    2\n",
       "CPL    2\n",
       "CTX    2\n",
       "DEF    2\n",
       "EIF    2\n",
       "GRP    2\n",
       "VE1    2\n",
       "SP1    2\n",
       "RGA    2\n",
       "NPA    2\n",
       "LCO    2\n",
       "SP4    2\n",
       "SP6    2\n",
       "STA    2\n",
       "VN1    2\n",
       "VER    2\n",
       "INV    2\n",
       "CSB    1\n",
       "NAN    1\n",
       "MAM    1\n",
       "HDV    1\n",
       "ELA    1\n",
       "TAH    1\n",
       "VN2    1\n",
       "AQC    1\n",
       "PDP    1\n",
       "LCS    1\n",
       "LC3    1\n",
       "LC2    1\n",
       "LC1    1\n",
       "TRO    1\n",
       "VE2    1\n",
       "MRS    1\n",
       "LYO    1\n",
       "LBO    1\n",
       "BOR    1\n",
       "LGN    1\n",
       "LC4    1\n",
       "LIL    1\n",
       "NIC    1\n",
       "STE    1\n",
       "YDM    1\n",
       "Name: count, dtype: int64"
      ]
     },
     "execution_count": 30,
     "metadata": {},
     "output_type": "execute_result"
    }
   ],
   "source": [
    "df[\"code_site\"].value_counts()"
   ]
  },
  {
   "cell_type": "code",
   "execution_count": 16,
   "metadata": {},
   "outputs": [
    {
     "data": {
      "text/html": [
       "<div>\n",
       "<style scoped>\n",
       "    .dataframe tbody tr th:only-of-type {\n",
       "        vertical-align: middle;\n",
       "    }\n",
       "\n",
       "    .dataframe tbody tr th {\n",
       "        vertical-align: top;\n",
       "    }\n",
       "\n",
       "    .dataframe thead th {\n",
       "        text-align: right;\n",
       "    }\n",
       "</style>\n",
       "<table border=\"1\" class=\"dataframe\">\n",
       "  <thead>\n",
       "    <tr style=\"text-align: right;\">\n",
       "      <th></th>\n",
       "      <th>code_site</th>\n",
       "      <th>nom_site</th>\n",
       "      <th>category_id</th>\n",
       "      <th>sports</th>\n",
       "      <th>start_date</th>\n",
       "      <th>end_date</th>\n",
       "      <th>adress</th>\n",
       "      <th>latitude</th>\n",
       "      <th>longitude</th>\n",
       "      <th>point_geo.lon</th>\n",
       "      <th>point_geo.lat</th>\n",
       "    </tr>\n",
       "  </thead>\n",
       "  <tbody>\n",
       "    <tr>\n",
       "      <th>0</th>\n",
       "      <td>ALX</td>\n",
       "      <td>Pont Alexandre III</td>\n",
       "      <td>venue-olympic</td>\n",
       "      <td>Cyclisme sur route - arrivée Contre-la-montre ...</td>\n",
       "      <td>2024-07-27</td>\n",
       "      <td>2024-08-09</td>\n",
       "      <td>None</td>\n",
       "      <td>48,8637</td>\n",
       "      <td>2,3134</td>\n",
       "      <td>2.3134</td>\n",
       "      <td>48.8637</td>\n",
       "    </tr>\n",
       "    <tr>\n",
       "      <th>43</th>\n",
       "      <td>ALX</td>\n",
       "      <td>Pont Alexandre III</td>\n",
       "      <td>venue-paralympic</td>\n",
       "      <td>Para Triathlon (PTRI)</td>\n",
       "      <td>2024-09-01</td>\n",
       "      <td>2024-09-02</td>\n",
       "      <td>None</td>\n",
       "      <td>48,8637</td>\n",
       "      <td>2,3134</td>\n",
       "      <td>2.3134</td>\n",
       "      <td>48.8637</td>\n",
       "    </tr>\n",
       "  </tbody>\n",
       "</table>\n",
       "</div>"
      ],
      "text/plain": [
       "   code_site            nom_site       category_id  \\\n",
       "0        ALX  Pont Alexandre III     venue-olympic   \n",
       "43       ALX  Pont Alexandre III  venue-paralympic   \n",
       "\n",
       "                                               sports  start_date    end_date  \\\n",
       "0   Cyclisme sur route - arrivée Contre-la-montre ...  2024-07-27  2024-08-09   \n",
       "43                              Para Triathlon (PTRI)  2024-09-01  2024-09-02   \n",
       "\n",
       "   adress latitude longitude  point_geo.lon  point_geo.lat  \n",
       "0    None  48,8637    2,3134         2.3134        48.8637  \n",
       "43   None  48,8637    2,3134         2.3134        48.8637  "
      ]
     },
     "execution_count": 16,
     "metadata": {},
     "output_type": "execute_result"
    }
   ],
   "source": [
    "df.loc[df[\"code_site\"] == \"ALX\"]"
   ]
  },
  {
   "cell_type": "code",
   "execution_count": 19,
   "metadata": {},
   "outputs": [
    {
     "data": {
      "text/plain": [
       "latitude\n",
       "48,78800979          3\n",
       "48,83863             2\n",
       "48,8637              2\n",
       "48,8997292           2\n",
       "46,8157              2\n",
       "48,8954              2\n",
       "48,85613             2\n",
       "48,86616355          2\n",
       "48,832968            2\n",
       "48,9721              2\n",
       "48,8531              2\n",
       "48,86570357457259    2\n",
       "48,830184            2\n",
       "48,924475            2\n",
       "48,845968            2\n",
       "48.81432266          2\n",
       "48,8623              2\n",
       "48,85704803          2\n",
       "48,829381            2\n",
       "43,2661              1\n",
       "48,8563881           1\n",
       "48,906345            1\n",
       "48,86223209583829    1\n",
       "-17,86693            1\n",
       "48,84156974          1\n",
       "48,923723            1\n",
       "47,25593494          1\n",
       "48,86486788          1\n",
       "48,86504456          1\n",
       "48,86640642          1\n",
       "48,78981063          1\n",
       "43,2698              1\n",
       "48,85972558          1\n",
       "45,76514165          1\n",
       "48.9372382           1\n",
       "48,93693402          1\n",
       "44.8974              1\n",
       "48.7532              1\n",
       "48,86573765          1\n",
       "50,61190661          1\n",
       "43,7051              1\n",
       "45,4607              1\n",
       "48,92934371          1\n",
       "Name: count, dtype: int64"
      ]
     },
     "execution_count": 19,
     "metadata": {},
     "output_type": "execute_result"
    }
   ],
   "source": [
    "df[\"latitude\"].value_counts()"
   ]
  },
  {
   "cell_type": "code",
   "execution_count": 20,
   "metadata": {},
   "outputs": [
    {
     "data": {
      "text/html": [
       "<div>\n",
       "<style scoped>\n",
       "    .dataframe tbody tr th:only-of-type {\n",
       "        vertical-align: middle;\n",
       "    }\n",
       "\n",
       "    .dataframe tbody tr th {\n",
       "        vertical-align: top;\n",
       "    }\n",
       "\n",
       "    .dataframe thead th {\n",
       "        text-align: right;\n",
       "    }\n",
       "</style>\n",
       "<table border=\"1\" class=\"dataframe\">\n",
       "  <thead>\n",
       "    <tr style=\"text-align: right;\">\n",
       "      <th></th>\n",
       "      <th>code_site</th>\n",
       "      <th>nom_site</th>\n",
       "      <th>category_id</th>\n",
       "      <th>sports</th>\n",
       "      <th>start_date</th>\n",
       "      <th>end_date</th>\n",
       "      <th>adress</th>\n",
       "      <th>latitude</th>\n",
       "      <th>longitude</th>\n",
       "      <th>point_geo.lon</th>\n",
       "      <th>point_geo.lat</th>\n",
       "    </tr>\n",
       "  </thead>\n",
       "  <tbody>\n",
       "    <tr>\n",
       "      <th>21</th>\n",
       "      <td>VE1</td>\n",
       "      <td>Vélodrome National de Saint-Quentin-en-Yvelines</td>\n",
       "      <td>venue-paralympic</td>\n",
       "      <td>Para Cyclisme sur piste (PCTR)</td>\n",
       "      <td>2024-08-29</td>\n",
       "      <td>2024-09-01</td>\n",
       "      <td>None</td>\n",
       "      <td>48,78800979</td>\n",
       "      <td>2.03498269</td>\n",
       "      <td>2.034983</td>\n",
       "      <td>48.78801</td>\n",
       "    </tr>\n",
       "    <tr>\n",
       "      <th>41</th>\n",
       "      <td>VE1</td>\n",
       "      <td>Vélodrome National de Saint-Quentin-en-Yvelines</td>\n",
       "      <td>venue-olympic</td>\n",
       "      <td>Cyclisme sur piste (CTR)</td>\n",
       "      <td>2024-08-05</td>\n",
       "      <td>2024-08-11</td>\n",
       "      <td>None</td>\n",
       "      <td>48,78800979</td>\n",
       "      <td>2.03498269</td>\n",
       "      <td>2.034983</td>\n",
       "      <td>48.78801</td>\n",
       "    </tr>\n",
       "    <tr>\n",
       "      <th>42</th>\n",
       "      <td>VE2</td>\n",
       "      <td>Stade BMX de Saint-Quentin-en-Yvelines</td>\n",
       "      <td>venue-olympic</td>\n",
       "      <td>BMX Racing (BMX)</td>\n",
       "      <td>2024-09-01</td>\n",
       "      <td>2024-09-02</td>\n",
       "      <td>None</td>\n",
       "      <td>48,78800979</td>\n",
       "      <td>2.03498269</td>\n",
       "      <td>2.034983</td>\n",
       "      <td>48.78801</td>\n",
       "    </tr>\n",
       "  </tbody>\n",
       "</table>\n",
       "</div>"
      ],
      "text/plain": [
       "   code_site                                         nom_site  \\\n",
       "21       VE1  Vélodrome National de Saint-Quentin-en-Yvelines   \n",
       "41       VE1  Vélodrome National de Saint-Quentin-en-Yvelines   \n",
       "42       VE2           Stade BMX de Saint-Quentin-en-Yvelines   \n",
       "\n",
       "         category_id                          sports  start_date    end_date  \\\n",
       "21  venue-paralympic  Para Cyclisme sur piste (PCTR)  2024-08-29  2024-09-01   \n",
       "41     venue-olympic        Cyclisme sur piste (CTR)  2024-08-05  2024-08-11   \n",
       "42     venue-olympic                BMX Racing (BMX)  2024-09-01  2024-09-02   \n",
       "\n",
       "   adress     latitude   longitude  point_geo.lon  point_geo.lat  \n",
       "21   None  48,78800979  2.03498269       2.034983       48.78801  \n",
       "41   None  48,78800979  2.03498269       2.034983       48.78801  \n",
       "42   None  48,78800979  2.03498269       2.034983       48.78801  "
      ]
     },
     "execution_count": 20,
     "metadata": {},
     "output_type": "execute_result"
    }
   ],
   "source": [
    "df.loc[df[\"latitude\"] == \"48,78800979\"]"
   ]
  },
  {
   "cell_type": "code",
   "execution_count": 34,
   "metadata": {},
   "outputs": [
    {
     "data": {
      "text/plain": [
       "('2024-07-24', '2024-09-08')"
      ]
     },
     "execution_count": 34,
     "metadata": {},
     "output_type": "execute_result"
    }
   ],
   "source": [
    "df[\"start_date\"].min(), df[\"start_date\"].max()"
   ]
  },
  {
   "cell_type": "code",
   "execution_count": 35,
   "metadata": {},
   "outputs": [
    {
     "data": {
      "text/plain": [
       "('2024-07-28', '2024-09-10')"
      ]
     },
     "execution_count": 35,
     "metadata": {},
     "output_type": "execute_result"
    }
   ],
   "source": [
    "df[\"end_date\"].min(), df[\"end_date\"].max()"
   ]
  }
 ],
 "metadata": {
  "kernelspec": {
   "display_name": ".venv",
   "language": "python",
   "name": "python3"
  },
  "language_info": {
   "codemirror_mode": {
    "name": "ipython",
    "version": 3
   },
   "file_extension": ".py",
   "mimetype": "text/x-python",
   "name": "python",
   "nbconvert_exporter": "python",
   "pygments_lexer": "ipython3",
   "version": "3.10.12"
  }
 },
 "nbformat": 4,
 "nbformat_minor": 2
}
