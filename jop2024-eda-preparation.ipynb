{
 "cells": [
  {
   "cell_type": "markdown",
   "metadata": {},
   "source": [
    "# Défis open data : JOP2024 et offre culturelle"
   ]
  },
  {
   "cell_type": "code",
   "execution_count": 1,
   "metadata": {},
   "outputs": [],
   "source": [
    "import json\n",
    "\n",
    "import pandas as pd"
   ]
  },
  {
   "cell_type": "markdown",
   "metadata": {},
   "source": [
    "## Jeu de données : sites de compétition"
   ]
  },
  {
   "cell_type": "code",
   "execution_count": 2,
   "metadata": {},
   "outputs": [],
   "source": [
    "with open(\"datasets/raw/paris-2024-sites-de-competition.json\", \"r\", encoding=\"utf-8\") as f:\n",
    "    data = json.load(f)\n",
    "\n",
    "df = pd.json_normalize(data)"
   ]
  },
  {
   "cell_type": "code",
   "execution_count": 3,
   "metadata": {},
   "outputs": [
    {
     "data": {
      "text/html": [
       "<div>\n",
       "<style scoped>\n",
       "    .dataframe tbody tr th:only-of-type {\n",
       "        vertical-align: middle;\n",
       "    }\n",
       "\n",
       "    .dataframe tbody tr th {\n",
       "        vertical-align: top;\n",
       "    }\n",
       "\n",
       "    .dataframe thead th {\n",
       "        text-align: right;\n",
       "    }\n",
       "</style>\n",
       "<table border=\"1\" class=\"dataframe\">\n",
       "  <thead>\n",
       "    <tr style=\"text-align: right;\">\n",
       "      <th></th>\n",
       "      <th>code_site</th>\n",
       "      <th>nom_site</th>\n",
       "      <th>category_id</th>\n",
       "      <th>sports</th>\n",
       "      <th>start_date</th>\n",
       "      <th>end_date</th>\n",
       "      <th>adress</th>\n",
       "      <th>latitude</th>\n",
       "      <th>longitude</th>\n",
       "      <th>point_geo.lon</th>\n",
       "      <th>point_geo.lat</th>\n",
       "    </tr>\n",
       "  </thead>\n",
       "  <tbody>\n",
       "    <tr>\n",
       "      <th>0</th>\n",
       "      <td>ALX</td>\n",
       "      <td>Pont Alexandre III</td>\n",
       "      <td>venue-olympic</td>\n",
       "      <td>Cyclisme sur route - arrivée Contre-la-montre ...</td>\n",
       "      <td>2024-07-27</td>\n",
       "      <td>2024-08-09</td>\n",
       "      <td>None</td>\n",
       "      <td>48,8637</td>\n",
       "      <td>2,3134</td>\n",
       "      <td>2.313400</td>\n",
       "      <td>48.86370</td>\n",
       "    </tr>\n",
       "    <tr>\n",
       "      <th>1</th>\n",
       "      <td>BCY</td>\n",
       "      <td>Arena Bercy</td>\n",
       "      <td>venue-olympic</td>\n",
       "      <td>Basketball (BKB), Gymnastique artistique (GAR)...</td>\n",
       "      <td>2024-07-27</td>\n",
       "      <td>2024-08-11</td>\n",
       "      <td>None</td>\n",
       "      <td>48,83863</td>\n",
       "      <td>2,378597</td>\n",
       "      <td>2.378597</td>\n",
       "      <td>48.83863</td>\n",
       "    </tr>\n",
       "    <tr>\n",
       "      <th>2</th>\n",
       "      <td>CDM</td>\n",
       "      <td>Arena Champ de Mars</td>\n",
       "      <td>venue-olympic</td>\n",
       "      <td>Judo (JUD), Lutte (WRE)</td>\n",
       "      <td>2024-07-27</td>\n",
       "      <td>2024-08-11</td>\n",
       "      <td>None</td>\n",
       "      <td>48,8531</td>\n",
       "      <td>2,30252</td>\n",
       "      <td>2.302520</td>\n",
       "      <td>48.85310</td>\n",
       "    </tr>\n",
       "  </tbody>\n",
       "</table>\n",
       "</div>"
      ],
      "text/plain": [
       "  code_site             nom_site    category_id  \\\n",
       "0       ALX   Pont Alexandre III  venue-olympic   \n",
       "1       BCY          Arena Bercy  venue-olympic   \n",
       "2       CDM  Arena Champ de Mars  venue-olympic   \n",
       "\n",
       "                                              sports  start_date    end_date  \\\n",
       "0  Cyclisme sur route - arrivée Contre-la-montre ...  2024-07-27  2024-08-09   \n",
       "1  Basketball (BKB), Gymnastique artistique (GAR)...  2024-07-27  2024-08-11   \n",
       "2                            Judo (JUD), Lutte (WRE)  2024-07-27  2024-08-11   \n",
       "\n",
       "  adress  latitude longitude  point_geo.lon  point_geo.lat  \n",
       "0   None   48,8637    2,3134       2.313400       48.86370  \n",
       "1   None  48,83863  2,378597       2.378597       48.83863  \n",
       "2   None   48,8531   2,30252       2.302520       48.85310  "
      ]
     },
     "execution_count": 3,
     "metadata": {},
     "output_type": "execute_result"
    }
   ],
   "source": [
    "df.head(3)"
   ]
  },
  {
   "cell_type": "code",
   "execution_count": 4,
   "metadata": {},
   "outputs": [
    {
     "data": {
      "text/html": [
       "<div>\n",
       "<style scoped>\n",
       "    .dataframe tbody tr th:only-of-type {\n",
       "        vertical-align: middle;\n",
       "    }\n",
       "\n",
       "    .dataframe tbody tr th {\n",
       "        vertical-align: top;\n",
       "    }\n",
       "\n",
       "    .dataframe thead th {\n",
       "        text-align: right;\n",
       "    }\n",
       "</style>\n",
       "<table border=\"1\" class=\"dataframe\">\n",
       "  <thead>\n",
       "    <tr style=\"text-align: right;\">\n",
       "      <th></th>\n",
       "      <th>code_site</th>\n",
       "      <th>nom_site</th>\n",
       "      <th>category_id</th>\n",
       "      <th>sports</th>\n",
       "      <th>start_date</th>\n",
       "      <th>end_date</th>\n",
       "      <th>adress</th>\n",
       "      <th>latitude</th>\n",
       "      <th>longitude</th>\n",
       "      <th>point_geo.lon</th>\n",
       "      <th>point_geo.lat</th>\n",
       "    </tr>\n",
       "  </thead>\n",
       "  <tbody>\n",
       "    <tr>\n",
       "      <th>14</th>\n",
       "      <td>NPA</td>\n",
       "      <td>Arena Paris Nord</td>\n",
       "      <td>venue-paralympic</td>\n",
       "      <td>Volleyball assis (PVBS)</td>\n",
       "      <td>2024-08-29</td>\n",
       "      <td>2024-09-07</td>\n",
       "      <td>None</td>\n",
       "      <td>48,9721</td>\n",
       "      <td>2,5149</td>\n",
       "      <td>2.514900</td>\n",
       "      <td>48.972100</td>\n",
       "    </tr>\n",
       "    <tr>\n",
       "      <th>45</th>\n",
       "      <td>BOR</td>\n",
       "      <td>Stade de Bordeaux</td>\n",
       "      <td>venue-olympic</td>\n",
       "      <td>Football (FBL)</td>\n",
       "      <td>2024-07-24</td>\n",
       "      <td>2024-08-02</td>\n",
       "      <td>None</td>\n",
       "      <td>44.8974</td>\n",
       "      <td>-0.5616</td>\n",
       "      <td>-0.561600</td>\n",
       "      <td>44.897400</td>\n",
       "    </tr>\n",
       "    <tr>\n",
       "      <th>33</th>\n",
       "      <td>LC2</td>\n",
       "      <td>La Concorde 2</td>\n",
       "      <td>venue-olympic</td>\n",
       "      <td>BMX freestyle (BMF)</td>\n",
       "      <td>2024-07-30</td>\n",
       "      <td>2024-07-31</td>\n",
       "      <td>None</td>\n",
       "      <td>48,86504456</td>\n",
       "      <td>2,32119516</td>\n",
       "      <td>2.321195</td>\n",
       "      <td>48.865045</td>\n",
       "    </tr>\n",
       "  </tbody>\n",
       "</table>\n",
       "</div>"
      ],
      "text/plain": [
       "   code_site           nom_site       category_id                   sports  \\\n",
       "14       NPA   Arena Paris Nord  venue-paralympic  Volleyball assis (PVBS)   \n",
       "45       BOR  Stade de Bordeaux     venue-olympic           Football (FBL)   \n",
       "33       LC2      La Concorde 2     venue-olympic      BMX freestyle (BMF)   \n",
       "\n",
       "    start_date    end_date adress     latitude   longitude  point_geo.lon  \\\n",
       "14  2024-08-29  2024-09-07   None      48,9721      2,5149       2.514900   \n",
       "45  2024-07-24  2024-08-02   None      44.8974     -0.5616      -0.561600   \n",
       "33  2024-07-30  2024-07-31   None  48,86504456  2,32119516       2.321195   \n",
       "\n",
       "    point_geo.lat  \n",
       "14      48.972100  \n",
       "45      44.897400  \n",
       "33      48.865045  "
      ]
     },
     "execution_count": 4,
     "metadata": {},
     "output_type": "execute_result"
    }
   ],
   "source": [
    "df.sample(3)"
   ]
  },
  {
   "cell_type": "code",
   "execution_count": 5,
   "metadata": {},
   "outputs": [
    {
     "data": {
      "text/plain": [
       "(63, 11)"
      ]
     },
     "execution_count": 5,
     "metadata": {},
     "output_type": "execute_result"
    }
   ],
   "source": [
    "df.shape"
   ]
  },
  {
   "cell_type": "code",
   "execution_count": 6,
   "metadata": {},
   "outputs": [
    {
     "data": {
      "text/plain": [
       "Index(['code_site', 'nom_site', 'category_id', 'sports', 'start_date',\n",
       "       'end_date', 'adress', 'latitude', 'longitude', 'point_geo.lon',\n",
       "       'point_geo.lat'],\n",
       "      dtype='object')"
      ]
     },
     "execution_count": 6,
     "metadata": {},
     "output_type": "execute_result"
    }
   ],
   "source": [
    "df.columns"
   ]
  },
  {
   "cell_type": "code",
   "execution_count": 7,
   "metadata": {},
   "outputs": [
    {
     "data": {
      "text/plain": [
       "code_site         object\n",
       "nom_site          object\n",
       "category_id       object\n",
       "sports            object\n",
       "start_date        object\n",
       "end_date          object\n",
       "adress            object\n",
       "latitude          object\n",
       "longitude         object\n",
       "point_geo.lon    float64\n",
       "point_geo.lat    float64\n",
       "dtype: object"
      ]
     },
     "execution_count": 7,
     "metadata": {},
     "output_type": "execute_result"
    }
   ],
   "source": [
    "df.dtypes"
   ]
  },
  {
   "cell_type": "code",
   "execution_count": 8,
   "metadata": {},
   "outputs": [
    {
     "data": {
      "text/plain": [
       "code_site        44\n",
       "nom_site         44\n",
       "category_id       2\n",
       "sports           56\n",
       "start_date       15\n",
       "end_date         18\n",
       "adress            0\n",
       "latitude         43\n",
       "longitude        43\n",
       "point_geo.lon    43\n",
       "point_geo.lat    43\n",
       "dtype: int64"
      ]
     },
     "execution_count": 8,
     "metadata": {},
     "output_type": "execute_result"
    }
   ],
   "source": [
    "df.nunique()"
   ]
  },
  {
   "cell_type": "code",
   "execution_count": 9,
   "metadata": {},
   "outputs": [
    {
     "data": {
      "text/plain": [
       "code_site         0\n",
       "nom_site          0\n",
       "category_id       0\n",
       "sports            0\n",
       "start_date        0\n",
       "end_date          0\n",
       "adress           63\n",
       "latitude          0\n",
       "longitude         0\n",
       "point_geo.lon     0\n",
       "point_geo.lat     0\n",
       "dtype: int64"
      ]
     },
     "execution_count": 9,
     "metadata": {},
     "output_type": "execute_result"
    }
   ],
   "source": [
    "df.isna().sum()"
   ]
  },
  {
   "cell_type": "markdown",
   "metadata": {},
   "source": [
    "La colonne `code_site`ne sera pas utile, on la supprime."
   ]
  },
  {
   "cell_type": "code",
   "execution_count": 10,
   "metadata": {},
   "outputs": [
    {
     "data": {
      "text/html": [
       "<div>\n",
       "<style scoped>\n",
       "    .dataframe tbody tr th:only-of-type {\n",
       "        vertical-align: middle;\n",
       "    }\n",
       "\n",
       "    .dataframe tbody tr th {\n",
       "        vertical-align: top;\n",
       "    }\n",
       "\n",
       "    .dataframe thead th {\n",
       "        text-align: right;\n",
       "    }\n",
       "</style>\n",
       "<table border=\"1\" class=\"dataframe\">\n",
       "  <thead>\n",
       "    <tr style=\"text-align: right;\">\n",
       "      <th></th>\n",
       "      <th>nom_site</th>\n",
       "      <th>category_id</th>\n",
       "      <th>sports</th>\n",
       "      <th>start_date</th>\n",
       "      <th>end_date</th>\n",
       "      <th>adress</th>\n",
       "      <th>latitude</th>\n",
       "      <th>longitude</th>\n",
       "      <th>point_geo.lon</th>\n",
       "      <th>point_geo.lat</th>\n",
       "    </tr>\n",
       "  </thead>\n",
       "  <tbody>\n",
       "    <tr>\n",
       "      <th>44</th>\n",
       "      <td>Arena Bercy</td>\n",
       "      <td>venue-paralympic</td>\n",
       "      <td>Basketball fauteuil (PWBK)</td>\n",
       "      <td>2024-08-29</td>\n",
       "      <td>2024-09-08</td>\n",
       "      <td>None</td>\n",
       "      <td>48,83863</td>\n",
       "      <td>2,378597</td>\n",
       "      <td>2.378597</td>\n",
       "      <td>48.838630</td>\n",
       "    </tr>\n",
       "    <tr>\n",
       "      <th>16</th>\n",
       "      <td>Stade Roland Garros</td>\n",
       "      <td>venue-paralympic</td>\n",
       "      <td>Tennis fauteuil (PWTE)</td>\n",
       "      <td>2024-08-30</td>\n",
       "      <td>2024-09-07</td>\n",
       "      <td>None</td>\n",
       "      <td>48,845968</td>\n",
       "      <td>2,253522</td>\n",
       "      <td>2.253522</td>\n",
       "      <td>48.845968</td>\n",
       "    </tr>\n",
       "    <tr>\n",
       "      <th>62</th>\n",
       "      <td>Stade Yves-du-Manoir</td>\n",
       "      <td>venue-olympic</td>\n",
       "      <td>Hockey (HOC)</td>\n",
       "      <td>2024-07-27</td>\n",
       "      <td>2024-08-09</td>\n",
       "      <td>None</td>\n",
       "      <td>48,92934371</td>\n",
       "      <td>2,24777122</td>\n",
       "      <td>2.247771</td>\n",
       "      <td>48.929344</td>\n",
       "    </tr>\n",
       "  </tbody>\n",
       "</table>\n",
       "</div>"
      ],
      "text/plain": [
       "                nom_site       category_id                      sports  \\\n",
       "44           Arena Bercy  venue-paralympic  Basketball fauteuil (PWBK)   \n",
       "16   Stade Roland Garros  venue-paralympic      Tennis fauteuil (PWTE)   \n",
       "62  Stade Yves-du-Manoir     venue-olympic                Hockey (HOC)   \n",
       "\n",
       "    start_date    end_date adress     latitude   longitude  point_geo.lon  \\\n",
       "44  2024-08-29  2024-09-08   None     48,83863    2,378597       2.378597   \n",
       "16  2024-08-30  2024-09-07   None    48,845968    2,253522       2.253522   \n",
       "62  2024-07-27  2024-08-09   None  48,92934371  2,24777122       2.247771   \n",
       "\n",
       "    point_geo.lat  \n",
       "44      48.838630  \n",
       "16      48.845968  \n",
       "62      48.929344  "
      ]
     },
     "execution_count": 10,
     "metadata": {},
     "output_type": "execute_result"
    }
   ],
   "source": [
    "df = df.drop(columns=\"code_site\")\n",
    "\n",
    "df.sample(3)"
   ]
  },
  {
   "cell_type": "markdown",
   "metadata": {},
   "source": [
    "`category_id` n'a que deux valeurs, on supprime le prefix \"venue-\" et on renomme cette colonne en `games_type`."
   ]
  },
  {
   "cell_type": "code",
   "execution_count": 11,
   "metadata": {},
   "outputs": [
    {
     "data": {
      "text/html": [
       "<div>\n",
       "<style scoped>\n",
       "    .dataframe tbody tr th:only-of-type {\n",
       "        vertical-align: middle;\n",
       "    }\n",
       "\n",
       "    .dataframe tbody tr th {\n",
       "        vertical-align: top;\n",
       "    }\n",
       "\n",
       "    .dataframe thead th {\n",
       "        text-align: right;\n",
       "    }\n",
       "</style>\n",
       "<table border=\"1\" class=\"dataframe\">\n",
       "  <thead>\n",
       "    <tr style=\"text-align: right;\">\n",
       "      <th></th>\n",
       "      <th>nom_site</th>\n",
       "      <th>games_type</th>\n",
       "      <th>sports</th>\n",
       "      <th>start_date</th>\n",
       "      <th>end_date</th>\n",
       "      <th>adress</th>\n",
       "      <th>latitude</th>\n",
       "      <th>longitude</th>\n",
       "      <th>point_geo.lon</th>\n",
       "      <th>point_geo.lat</th>\n",
       "    </tr>\n",
       "  </thead>\n",
       "  <tbody>\n",
       "    <tr>\n",
       "      <th>6</th>\n",
       "      <td>Centre national de tir de Châteauroux</td>\n",
       "      <td>paralympic</td>\n",
       "      <td>Para Tir Sportif (PSHO)</td>\n",
       "      <td>2024-08-30</td>\n",
       "      <td>2024-09-05</td>\n",
       "      <td>None</td>\n",
       "      <td>46,8157</td>\n",
       "      <td>1,7582</td>\n",
       "      <td>1.75820</td>\n",
       "      <td>46.8157</td>\n",
       "    </tr>\n",
       "    <tr>\n",
       "      <th>29</th>\n",
       "      <td>Paris La Défense Arena</td>\n",
       "      <td>olympic</td>\n",
       "      <td>Natation (SWM), Water-polo (WPO)</td>\n",
       "      <td>2024-07-27</td>\n",
       "      <td>2024-08-11</td>\n",
       "      <td>None</td>\n",
       "      <td>48,8954</td>\n",
       "      <td>2,2294</td>\n",
       "      <td>2.22940</td>\n",
       "      <td>48.8954</td>\n",
       "    </tr>\n",
       "    <tr>\n",
       "      <th>27</th>\n",
       "      <td>Arena Champ de Mars</td>\n",
       "      <td>paralympic</td>\n",
       "      <td>Para Judo (PJUD), Rugby fauteuil (PWRU)</td>\n",
       "      <td>2024-08-29</td>\n",
       "      <td>2024-09-07</td>\n",
       "      <td>None</td>\n",
       "      <td>48,8531</td>\n",
       "      <td>2,30252</td>\n",
       "      <td>2.30252</td>\n",
       "      <td>48.8531</td>\n",
       "    </tr>\n",
       "  </tbody>\n",
       "</table>\n",
       "</div>"
      ],
      "text/plain": [
       "                                 nom_site  games_type  \\\n",
       "6   Centre national de tir de Châteauroux  paralympic   \n",
       "29                 Paris La Défense Arena     olympic   \n",
       "27                    Arena Champ de Mars  paralympic   \n",
       "\n",
       "                                     sports  start_date    end_date adress  \\\n",
       "6                   Para Tir Sportif (PSHO)  2024-08-30  2024-09-05   None   \n",
       "29         Natation (SWM), Water-polo (WPO)  2024-07-27  2024-08-11   None   \n",
       "27  Para Judo (PJUD), Rugby fauteuil (PWRU)  2024-08-29  2024-09-07   None   \n",
       "\n",
       "   latitude longitude  point_geo.lon  point_geo.lat  \n",
       "6   46,8157    1,7582        1.75820        46.8157  \n",
       "29  48,8954    2,2294        2.22940        48.8954  \n",
       "27  48,8531   2,30252        2.30252        48.8531  "
      ]
     },
     "execution_count": 11,
     "metadata": {},
     "output_type": "execute_result"
    }
   ],
   "source": [
    "df[\"category_id\"] = df[\"category_id\"].str.removeprefix(\"venue-\")\n",
    "df = df.rename(columns={\"category_id\": \"games_type\"})\n",
    "\n",
    "df.sample(3)"
   ]
  },
  {
   "cell_type": "markdown",
   "metadata": {},
   "source": [
    "`sports`, semble contenir plusieurs sports pour une même ligne."
   ]
  },
  {
   "cell_type": "code",
   "execution_count": 12,
   "metadata": {},
   "outputs": [
    {
     "data": {
      "text/plain": [
       "array(['Cyclisme sur route - arrivée Contre-la-montre (CRD), Natation marathon (OWS), Triathlon (TRI)',\n",
       "       'Basketball (BKB), Gymnastique artistique (GAR), Gymnastique trampoline (GTR)',\n",
       "       'Judo (JUD), Lutte (WRE)',\n",
       "       'Badminton (BDM), Gymnastique rythmique (GRY)',\n",
       "       'Para badminton (PBDM), Para Haltérophilie (PPWL)',\n",
       "       'Para cyclisme sur route (PCRD)', 'Para Tir Sportif (PSHO)',\n",
       "       'Para Natation (PSWM)', 'Cécifoot (PFBB)',\n",
       "       'Escrime (FEN), Taekwondo (TKW)',\n",
       "       'Athlétisme - départ Marathon (ATM)', 'Voile (SAL)',\n",
       "       'Football (FBL)', 'Boxe (BOX), Pentathlon moderne (MDN)',\n",
       "       'Volleyball assis (PVBS)', 'Tennis fauteuil (PWTE)',\n",
       "       'Tennis (TEN), Boxe (BOX)', 'Volley-ball (VVO)', 'Boccia (PBOC)',\n",
       "       'Surf (SRF)'], dtype=object)"
      ]
     },
     "execution_count": 12,
     "metadata": {},
     "output_type": "execute_result"
    }
   ],
   "source": [
    "df[\"sports\"].unique()[:20]"
   ]
  },
  {
   "cell_type": "markdown",
   "metadata": {},
   "source": [
    "Il y a 1, 2, 3 sports ou plus pour une même ligne mais on laisse comme cela. Par contre, on supprime le code du sport qui se trouve entre parenthèses."
   ]
  },
  {
   "cell_type": "code",
   "execution_count": 13,
   "metadata": {},
   "outputs": [
    {
     "data": {
      "text/html": [
       "<div>\n",
       "<style scoped>\n",
       "    .dataframe tbody tr th:only-of-type {\n",
       "        vertical-align: middle;\n",
       "    }\n",
       "\n",
       "    .dataframe tbody tr th {\n",
       "        vertical-align: top;\n",
       "    }\n",
       "\n",
       "    .dataframe thead th {\n",
       "        text-align: right;\n",
       "    }\n",
       "</style>\n",
       "<table border=\"1\" class=\"dataframe\">\n",
       "  <thead>\n",
       "    <tr style=\"text-align: right;\">\n",
       "      <th></th>\n",
       "      <th>nom_site</th>\n",
       "      <th>games_type</th>\n",
       "      <th>sports</th>\n",
       "      <th>start_date</th>\n",
       "      <th>end_date</th>\n",
       "      <th>adress</th>\n",
       "      <th>latitude</th>\n",
       "      <th>longitude</th>\n",
       "      <th>point_geo.lon</th>\n",
       "      <th>point_geo.lat</th>\n",
       "    </tr>\n",
       "  </thead>\n",
       "  <tbody>\n",
       "    <tr>\n",
       "      <th>0</th>\n",
       "      <td>Pont Alexandre III</td>\n",
       "      <td>olympic</td>\n",
       "      <td>Cyclisme sur route - arrivée Contre-la-montre,...</td>\n",
       "      <td>2024-07-27</td>\n",
       "      <td>2024-08-09</td>\n",
       "      <td>None</td>\n",
       "      <td>48,8637</td>\n",
       "      <td>2,3134</td>\n",
       "      <td>2.313400</td>\n",
       "      <td>48.863700</td>\n",
       "    </tr>\n",
       "    <tr>\n",
       "      <th>26</th>\n",
       "      <td>Centre Aquatique</td>\n",
       "      <td>olympic</td>\n",
       "      <td>Natation artistique, Plongeon, Water-polo</td>\n",
       "      <td>2024-07-27</td>\n",
       "      <td>2024-08-10</td>\n",
       "      <td>None</td>\n",
       "      <td>48,923723</td>\n",
       "      <td>2,35578</td>\n",
       "      <td>2.355780</td>\n",
       "      <td>48.923723</td>\n",
       "    </tr>\n",
       "    <tr>\n",
       "      <th>4</th>\n",
       "      <td>Arena Porte de la Chapelle</td>\n",
       "      <td>paralympic</td>\n",
       "      <td>Para badminton, Para Haltérophilie</td>\n",
       "      <td>2024-08-29</td>\n",
       "      <td>2024-09-08</td>\n",
       "      <td>None</td>\n",
       "      <td>48,8997292</td>\n",
       "      <td>2,3605141</td>\n",
       "      <td>2.360514</td>\n",
       "      <td>48.899729</td>\n",
       "    </tr>\n",
       "  </tbody>\n",
       "</table>\n",
       "</div>"
      ],
      "text/plain": [
       "                      nom_site  games_type  \\\n",
       "0           Pont Alexandre III     olympic   \n",
       "26            Centre Aquatique     olympic   \n",
       "4   Arena Porte de la Chapelle  paralympic   \n",
       "\n",
       "                                               sports  start_date    end_date  \\\n",
       "0   Cyclisme sur route - arrivée Contre-la-montre,...  2024-07-27  2024-08-09   \n",
       "26          Natation artistique, Plongeon, Water-polo  2024-07-27  2024-08-10   \n",
       "4                  Para badminton, Para Haltérophilie  2024-08-29  2024-09-08   \n",
       "\n",
       "   adress    latitude  longitude  point_geo.lon  point_geo.lat  \n",
       "0    None     48,8637     2,3134       2.313400      48.863700  \n",
       "26   None   48,923723    2,35578       2.355780      48.923723  \n",
       "4    None  48,8997292  2,3605141       2.360514      48.899729  "
      ]
     },
     "execution_count": 13,
     "metadata": {},
     "output_type": "execute_result"
    }
   ],
   "source": [
    "df[\"sports\"] = df[\"sports\"].replace(r\"\\s*\\([^)]*\\)\", \"\", regex=True)\n",
    "\n",
    "df.sample(3)"
   ]
  },
  {
   "cell_type": "markdown",
   "metadata": {},
   "source": [
    "Les dates ne sont pas au bon format, essayons de les convertir pour voir si aucune ne pose problème."
   ]
  },
  {
   "cell_type": "code",
   "execution_count": 14,
   "metadata": {},
   "outputs": [
    {
     "data": {
      "text/plain": [
       "start_date    datetime64[ns]\n",
       "end_date      datetime64[ns]\n",
       "dtype: object"
      ]
     },
     "execution_count": 14,
     "metadata": {},
     "output_type": "execute_result"
    }
   ],
   "source": [
    "df[\"start_date\"] = pd.to_datetime(df[\"start_date\"])\n",
    "df[\"end_date\"] = pd.to_datetime(df[\"end_date\"])\n",
    "\n",
    "df[[\"start_date\", \"end_date\"]].dtypes"
   ]
  },
  {
   "cell_type": "markdown",
   "metadata": {},
   "source": [
    "La conversion a fonctionné sans erreur."
   ]
  },
  {
   "cell_type": "markdown",
   "metadata": {},
   "source": [
    "`adress`est toujours vide, on supprime la colonne."
   ]
  },
  {
   "cell_type": "code",
   "execution_count": 15,
   "metadata": {},
   "outputs": [],
   "source": [
    "df = df.drop(columns=\"adress\")"
   ]
  },
  {
   "cell_type": "markdown",
   "metadata": {},
   "source": [
    "`latitude` et `longitude` ne sont pas gardées :\n",
    "* en doublon avec `point_geo.lon` et `point_geo.lat` ;\n",
    "* pas au format numérique."
   ]
  },
  {
   "cell_type": "code",
   "execution_count": 16,
   "metadata": {},
   "outputs": [
    {
     "data": {
      "text/html": [
       "<div>\n",
       "<style scoped>\n",
       "    .dataframe tbody tr th:only-of-type {\n",
       "        vertical-align: middle;\n",
       "    }\n",
       "\n",
       "    .dataframe tbody tr th {\n",
       "        vertical-align: top;\n",
       "    }\n",
       "\n",
       "    .dataframe thead th {\n",
       "        text-align: right;\n",
       "    }\n",
       "</style>\n",
       "<table border=\"1\" class=\"dataframe\">\n",
       "  <thead>\n",
       "    <tr style=\"text-align: right;\">\n",
       "      <th></th>\n",
       "      <th>nom_site</th>\n",
       "      <th>games_type</th>\n",
       "      <th>sports</th>\n",
       "      <th>start_date</th>\n",
       "      <th>end_date</th>\n",
       "      <th>lon</th>\n",
       "      <th>lat</th>\n",
       "    </tr>\n",
       "  </thead>\n",
       "  <tbody>\n",
       "    <tr>\n",
       "      <th>58</th>\n",
       "      <td>Arena Paris Sud 6</td>\n",
       "      <td>olympic</td>\n",
       "      <td>Handball, Haltérophilie</td>\n",
       "      <td>2024-07-25</td>\n",
       "      <td>2024-08-11</td>\n",
       "      <td>2.290865</td>\n",
       "      <td>48.829381</td>\n",
       "    </tr>\n",
       "    <tr>\n",
       "      <th>0</th>\n",
       "      <td>Pont Alexandre III</td>\n",
       "      <td>olympic</td>\n",
       "      <td>Cyclisme sur route - arrivée Contre-la-montre,...</td>\n",
       "      <td>2024-07-27</td>\n",
       "      <td>2024-08-09</td>\n",
       "      <td>2.313400</td>\n",
       "      <td>48.863700</td>\n",
       "    </tr>\n",
       "    <tr>\n",
       "      <th>21</th>\n",
       "      <td>Vélodrome National de Saint-Quentin-en-Yvelines</td>\n",
       "      <td>paralympic</td>\n",
       "      <td>Para Cyclisme sur piste</td>\n",
       "      <td>2024-08-29</td>\n",
       "      <td>2024-09-01</td>\n",
       "      <td>2.034983</td>\n",
       "      <td>48.788010</td>\n",
       "    </tr>\n",
       "  </tbody>\n",
       "</table>\n",
       "</div>"
      ],
      "text/plain": [
       "                                           nom_site  games_type  \\\n",
       "58                                Arena Paris Sud 6     olympic   \n",
       "0                                Pont Alexandre III     olympic   \n",
       "21  Vélodrome National de Saint-Quentin-en-Yvelines  paralympic   \n",
       "\n",
       "                                               sports start_date   end_date  \\\n",
       "58                            Handball, Haltérophilie 2024-07-25 2024-08-11   \n",
       "0   Cyclisme sur route - arrivée Contre-la-montre,... 2024-07-27 2024-08-09   \n",
       "21                            Para Cyclisme sur piste 2024-08-29 2024-09-01   \n",
       "\n",
       "         lon        lat  \n",
       "58  2.290865  48.829381  \n",
       "0   2.313400  48.863700  \n",
       "21  2.034983  48.788010  "
      ]
     },
     "execution_count": 16,
     "metadata": {},
     "output_type": "execute_result"
    }
   ],
   "source": [
    "df = df.drop(columns=[\"latitude\", \"longitude\"])\n",
    "\n",
    "df = df.rename(columns={\"point_geo.lon\": \"lon\", \"point_geo.lat\": \"lat\"})\n",
    "\n",
    "df.sample(3)"
   ]
  },
  {
   "cell_type": "markdown",
   "metadata": {},
   "source": [
    "Le dataset est prêt à être exporté."
   ]
  },
  {
   "cell_type": "code",
   "execution_count": 20,
   "metadata": {},
   "outputs": [],
   "source": [
    "df.to_json(\"datasets/jop2024-competition-sites.json\", orient=\"index\", indent=4)"
   ]
  }
 ],
 "metadata": {
  "kernelspec": {
   "display_name": ".venv",
   "language": "python",
   "name": "python3"
  },
  "language_info": {
   "codemirror_mode": {
    "name": "ipython",
    "version": 3
   },
   "file_extension": ".py",
   "mimetype": "text/x-python",
   "name": "python",
   "nbconvert_exporter": "python",
   "pygments_lexer": "ipython3",
   "version": "3.10.12"
  }
 },
 "nbformat": 4,
 "nbformat_minor": 2
}
