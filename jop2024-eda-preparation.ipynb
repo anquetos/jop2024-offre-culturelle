{
 "cells": [
  {
   "cell_type": "markdown",
   "metadata": {},
   "source": [
    "# Défis open data : JOP2024 et offre culturelle"
   ]
  },
  {
   "cell_type": "code",
   "execution_count": 113,
   "metadata": {},
   "outputs": [],
   "source": [
    "import json\n",
    "\n",
    "import pandas as pd"
   ]
  },
  {
   "cell_type": "markdown",
   "metadata": {},
   "source": [
    "## Jeu de données : sites de compétition"
   ]
  },
  {
   "cell_type": "code",
   "execution_count": 114,
   "metadata": {},
   "outputs": [],
   "source": [
    "with open(\"datasets/raw/paris-2024-sites-de-competition.json\", \"r\", encoding=\"utf-8\") as f:\n",
    "    data = json.load(f)\n",
    "\n",
    "df = pd.json_normalize(data)"
   ]
  },
  {
   "cell_type": "code",
   "execution_count": 115,
   "metadata": {},
   "outputs": [
    {
     "data": {
      "text/html": [
       "<div>\n",
       "<style scoped>\n",
       "    .dataframe tbody tr th:only-of-type {\n",
       "        vertical-align: middle;\n",
       "    }\n",
       "\n",
       "    .dataframe tbody tr th {\n",
       "        vertical-align: top;\n",
       "    }\n",
       "\n",
       "    .dataframe thead th {\n",
       "        text-align: right;\n",
       "    }\n",
       "</style>\n",
       "<table border=\"1\" class=\"dataframe\">\n",
       "  <thead>\n",
       "    <tr style=\"text-align: right;\">\n",
       "      <th></th>\n",
       "      <th>code_site</th>\n",
       "      <th>nom_site</th>\n",
       "      <th>category_id</th>\n",
       "      <th>sports</th>\n",
       "      <th>start_date</th>\n",
       "      <th>end_date</th>\n",
       "      <th>adress</th>\n",
       "      <th>latitude</th>\n",
       "      <th>longitude</th>\n",
       "      <th>point_geo.lon</th>\n",
       "      <th>point_geo.lat</th>\n",
       "    </tr>\n",
       "  </thead>\n",
       "  <tbody>\n",
       "    <tr>\n",
       "      <th>0</th>\n",
       "      <td>ALX</td>\n",
       "      <td>Pont Alexandre III</td>\n",
       "      <td>venue-olympic</td>\n",
       "      <td>Cyclisme sur route - arrivée Contre-la-montre ...</td>\n",
       "      <td>2024-07-27</td>\n",
       "      <td>2024-08-09</td>\n",
       "      <td>None</td>\n",
       "      <td>48,8637</td>\n",
       "      <td>2,3134</td>\n",
       "      <td>2.313400</td>\n",
       "      <td>48.86370</td>\n",
       "    </tr>\n",
       "    <tr>\n",
       "      <th>1</th>\n",
       "      <td>BCY</td>\n",
       "      <td>Arena Bercy</td>\n",
       "      <td>venue-olympic</td>\n",
       "      <td>Basketball (BKB), Gymnastique artistique (GAR)...</td>\n",
       "      <td>2024-07-27</td>\n",
       "      <td>2024-08-11</td>\n",
       "      <td>None</td>\n",
       "      <td>48,83863</td>\n",
       "      <td>2,378597</td>\n",
       "      <td>2.378597</td>\n",
       "      <td>48.83863</td>\n",
       "    </tr>\n",
       "    <tr>\n",
       "      <th>2</th>\n",
       "      <td>CDM</td>\n",
       "      <td>Arena Champ de Mars</td>\n",
       "      <td>venue-olympic</td>\n",
       "      <td>Judo (JUD), Lutte (WRE)</td>\n",
       "      <td>2024-07-27</td>\n",
       "      <td>2024-08-11</td>\n",
       "      <td>None</td>\n",
       "      <td>48,8531</td>\n",
       "      <td>2,30252</td>\n",
       "      <td>2.302520</td>\n",
       "      <td>48.85310</td>\n",
       "    </tr>\n",
       "  </tbody>\n",
       "</table>\n",
       "</div>"
      ],
      "text/plain": [
       "  code_site             nom_site    category_id  \\\n",
       "0       ALX   Pont Alexandre III  venue-olympic   \n",
       "1       BCY          Arena Bercy  venue-olympic   \n",
       "2       CDM  Arena Champ de Mars  venue-olympic   \n",
       "\n",
       "                                              sports  start_date    end_date  \\\n",
       "0  Cyclisme sur route - arrivée Contre-la-montre ...  2024-07-27  2024-08-09   \n",
       "1  Basketball (BKB), Gymnastique artistique (GAR)...  2024-07-27  2024-08-11   \n",
       "2                            Judo (JUD), Lutte (WRE)  2024-07-27  2024-08-11   \n",
       "\n",
       "  adress  latitude longitude  point_geo.lon  point_geo.lat  \n",
       "0   None   48,8637    2,3134       2.313400       48.86370  \n",
       "1   None  48,83863  2,378597       2.378597       48.83863  \n",
       "2   None   48,8531   2,30252       2.302520       48.85310  "
      ]
     },
     "execution_count": 115,
     "metadata": {},
     "output_type": "execute_result"
    }
   ],
   "source": [
    "df.head(3)"
   ]
  },
  {
   "cell_type": "code",
   "execution_count": 116,
   "metadata": {},
   "outputs": [
    {
     "data": {
      "text/html": [
       "<div>\n",
       "<style scoped>\n",
       "    .dataframe tbody tr th:only-of-type {\n",
       "        vertical-align: middle;\n",
       "    }\n",
       "\n",
       "    .dataframe tbody tr th {\n",
       "        vertical-align: top;\n",
       "    }\n",
       "\n",
       "    .dataframe thead th {\n",
       "        text-align: right;\n",
       "    }\n",
       "</style>\n",
       "<table border=\"1\" class=\"dataframe\">\n",
       "  <thead>\n",
       "    <tr style=\"text-align: right;\">\n",
       "      <th></th>\n",
       "      <th>code_site</th>\n",
       "      <th>nom_site</th>\n",
       "      <th>category_id</th>\n",
       "      <th>sports</th>\n",
       "      <th>start_date</th>\n",
       "      <th>end_date</th>\n",
       "      <th>adress</th>\n",
       "      <th>latitude</th>\n",
       "      <th>longitude</th>\n",
       "      <th>point_geo.lon</th>\n",
       "      <th>point_geo.lat</th>\n",
       "    </tr>\n",
       "  </thead>\n",
       "  <tbody>\n",
       "    <tr>\n",
       "      <th>40</th>\n",
       "      <td>TRO</td>\n",
       "      <td>Trocadéro</td>\n",
       "      <td>venue-olympic</td>\n",
       "      <td>Athlétisme marche (ATW), Cyclisme sur route - ...</td>\n",
       "      <td>2024-08-01</td>\n",
       "      <td>2024-08-07</td>\n",
       "      <td>None</td>\n",
       "      <td>48,85972558</td>\n",
       "      <td>2,29221884</td>\n",
       "      <td>2.292219</td>\n",
       "      <td>48.859726</td>\n",
       "    </tr>\n",
       "    <tr>\n",
       "      <th>44</th>\n",
       "      <td>BCY</td>\n",
       "      <td>Arena Bercy</td>\n",
       "      <td>venue-paralympic</td>\n",
       "      <td>Basketball fauteuil (PWBK)</td>\n",
       "      <td>2024-08-29</td>\n",
       "      <td>2024-09-08</td>\n",
       "      <td>None</td>\n",
       "      <td>48,83863</td>\n",
       "      <td>2,378597</td>\n",
       "      <td>2.378597</td>\n",
       "      <td>48.838630</td>\n",
       "    </tr>\n",
       "    <tr>\n",
       "      <th>49</th>\n",
       "      <td>LBO</td>\n",
       "      <td>Site d’escalade du Bourget</td>\n",
       "      <td>venue-olympic</td>\n",
       "      <td>Escalade (CLB)</td>\n",
       "      <td>2024-08-05</td>\n",
       "      <td>2024-08-10</td>\n",
       "      <td>None</td>\n",
       "      <td>48,93693402</td>\n",
       "      <td>2,41997931</td>\n",
       "      <td>2.419979</td>\n",
       "      <td>48.936934</td>\n",
       "    </tr>\n",
       "  </tbody>\n",
       "</table>\n",
       "</div>"
      ],
      "text/plain": [
       "   code_site                    nom_site       category_id  \\\n",
       "40       TRO                   Trocadéro     venue-olympic   \n",
       "44       BCY                 Arena Bercy  venue-paralympic   \n",
       "49       LBO  Site d’escalade du Bourget     venue-olympic   \n",
       "\n",
       "                                               sports  start_date    end_date  \\\n",
       "40  Athlétisme marche (ATW), Cyclisme sur route - ...  2024-08-01  2024-08-07   \n",
       "44                         Basketball fauteuil (PWBK)  2024-08-29  2024-09-08   \n",
       "49                                     Escalade (CLB)  2024-08-05  2024-08-10   \n",
       "\n",
       "   adress     latitude   longitude  point_geo.lon  point_geo.lat  \n",
       "40   None  48,85972558  2,29221884       2.292219      48.859726  \n",
       "44   None     48,83863    2,378597       2.378597      48.838630  \n",
       "49   None  48,93693402  2,41997931       2.419979      48.936934  "
      ]
     },
     "execution_count": 116,
     "metadata": {},
     "output_type": "execute_result"
    }
   ],
   "source": [
    "df.sample(3)"
   ]
  },
  {
   "cell_type": "code",
   "execution_count": 117,
   "metadata": {},
   "outputs": [
    {
     "data": {
      "text/plain": [
       "(63, 11)"
      ]
     },
     "execution_count": 117,
     "metadata": {},
     "output_type": "execute_result"
    }
   ],
   "source": [
    "df.shape"
   ]
  },
  {
   "cell_type": "code",
   "execution_count": 118,
   "metadata": {},
   "outputs": [
    {
     "data": {
      "text/plain": [
       "Index(['code_site', 'nom_site', 'category_id', 'sports', 'start_date',\n",
       "       'end_date', 'adress', 'latitude', 'longitude', 'point_geo.lon',\n",
       "       'point_geo.lat'],\n",
       "      dtype='object')"
      ]
     },
     "execution_count": 118,
     "metadata": {},
     "output_type": "execute_result"
    }
   ],
   "source": [
    "df.columns"
   ]
  },
  {
   "cell_type": "code",
   "execution_count": 119,
   "metadata": {},
   "outputs": [
    {
     "data": {
      "text/plain": [
       "code_site         object\n",
       "nom_site          object\n",
       "category_id       object\n",
       "sports            object\n",
       "start_date        object\n",
       "end_date          object\n",
       "adress            object\n",
       "latitude          object\n",
       "longitude         object\n",
       "point_geo.lon    float64\n",
       "point_geo.lat    float64\n",
       "dtype: object"
      ]
     },
     "execution_count": 119,
     "metadata": {},
     "output_type": "execute_result"
    }
   ],
   "source": [
    "df.dtypes"
   ]
  },
  {
   "cell_type": "code",
   "execution_count": 120,
   "metadata": {},
   "outputs": [
    {
     "data": {
      "text/plain": [
       "code_site        44\n",
       "nom_site         44\n",
       "category_id       2\n",
       "sports           56\n",
       "start_date       15\n",
       "end_date         18\n",
       "adress            0\n",
       "latitude         43\n",
       "longitude        43\n",
       "point_geo.lon    43\n",
       "point_geo.lat    43\n",
       "dtype: int64"
      ]
     },
     "execution_count": 120,
     "metadata": {},
     "output_type": "execute_result"
    }
   ],
   "source": [
    "df.nunique()"
   ]
  },
  {
   "cell_type": "code",
   "execution_count": 121,
   "metadata": {},
   "outputs": [
    {
     "data": {
      "text/plain": [
       "code_site         0\n",
       "nom_site          0\n",
       "category_id       0\n",
       "sports            0\n",
       "start_date        0\n",
       "end_date          0\n",
       "adress           63\n",
       "latitude          0\n",
       "longitude         0\n",
       "point_geo.lon     0\n",
       "point_geo.lat     0\n",
       "dtype: int64"
      ]
     },
     "execution_count": 121,
     "metadata": {},
     "output_type": "execute_result"
    }
   ],
   "source": [
    "df.isna().sum()"
   ]
  },
  {
   "cell_type": "markdown",
   "metadata": {},
   "source": [
    "La colonne `code_site`ne sera pas utile, on la supprime."
   ]
  },
  {
   "cell_type": "code",
   "execution_count": 122,
   "metadata": {},
   "outputs": [
    {
     "data": {
      "text/html": [
       "<div>\n",
       "<style scoped>\n",
       "    .dataframe tbody tr th:only-of-type {\n",
       "        vertical-align: middle;\n",
       "    }\n",
       "\n",
       "    .dataframe tbody tr th {\n",
       "        vertical-align: top;\n",
       "    }\n",
       "\n",
       "    .dataframe thead th {\n",
       "        text-align: right;\n",
       "    }\n",
       "</style>\n",
       "<table border=\"1\" class=\"dataframe\">\n",
       "  <thead>\n",
       "    <tr style=\"text-align: right;\">\n",
       "      <th></th>\n",
       "      <th>nom_site</th>\n",
       "      <th>category_id</th>\n",
       "      <th>sports</th>\n",
       "      <th>start_date</th>\n",
       "      <th>end_date</th>\n",
       "      <th>adress</th>\n",
       "      <th>latitude</th>\n",
       "      <th>longitude</th>\n",
       "      <th>point_geo.lon</th>\n",
       "      <th>point_geo.lat</th>\n",
       "    </tr>\n",
       "  </thead>\n",
       "  <tbody>\n",
       "    <tr>\n",
       "      <th>16</th>\n",
       "      <td>Stade Roland Garros</td>\n",
       "      <td>venue-paralympic</td>\n",
       "      <td>Tennis fauteuil (PWTE)</td>\n",
       "      <td>2024-08-30</td>\n",
       "      <td>2024-09-07</td>\n",
       "      <td>None</td>\n",
       "      <td>48,845968</td>\n",
       "      <td>2,253522</td>\n",
       "      <td>2.253522</td>\n",
       "      <td>48.845968</td>\n",
       "    </tr>\n",
       "    <tr>\n",
       "      <th>43</th>\n",
       "      <td>Pont Alexandre III</td>\n",
       "      <td>venue-paralympic</td>\n",
       "      <td>Para Triathlon (PTRI)</td>\n",
       "      <td>2024-09-01</td>\n",
       "      <td>2024-09-02</td>\n",
       "      <td>None</td>\n",
       "      <td>48,8637</td>\n",
       "      <td>2,3134</td>\n",
       "      <td>2.313400</td>\n",
       "      <td>48.863700</td>\n",
       "    </tr>\n",
       "    <tr>\n",
       "      <th>30</th>\n",
       "      <td>Colline d’Elancourt</td>\n",
       "      <td>venue-olympic</td>\n",
       "      <td>Cyclisme VTT (MTB)</td>\n",
       "      <td>2024-07-28</td>\n",
       "      <td>2024-07-29</td>\n",
       "      <td>None</td>\n",
       "      <td>48,78981063</td>\n",
       "      <td>1,9642379</td>\n",
       "      <td>1.964238</td>\n",
       "      <td>48.789811</td>\n",
       "    </tr>\n",
       "  </tbody>\n",
       "</table>\n",
       "</div>"
      ],
      "text/plain": [
       "               nom_site       category_id                  sports  start_date  \\\n",
       "16  Stade Roland Garros  venue-paralympic  Tennis fauteuil (PWTE)  2024-08-30   \n",
       "43   Pont Alexandre III  venue-paralympic   Para Triathlon (PTRI)  2024-09-01   \n",
       "30  Colline d’Elancourt     venue-olympic      Cyclisme VTT (MTB)  2024-07-28   \n",
       "\n",
       "      end_date adress     latitude  longitude  point_geo.lon  point_geo.lat  \n",
       "16  2024-09-07   None    48,845968   2,253522       2.253522      48.845968  \n",
       "43  2024-09-02   None      48,8637     2,3134       2.313400      48.863700  \n",
       "30  2024-07-29   None  48,78981063  1,9642379       1.964238      48.789811  "
      ]
     },
     "execution_count": 122,
     "metadata": {},
     "output_type": "execute_result"
    }
   ],
   "source": [
    "df = df.drop(columns=\"code_site\")\n",
    "\n",
    "df.sample(3)"
   ]
  },
  {
   "cell_type": "markdown",
   "metadata": {},
   "source": [
    "`category_id` n'a que deux valeurs, on supprime le prefix \"venue-\" et on renomme cette colonne en `games_type`."
   ]
  },
  {
   "cell_type": "code",
   "execution_count": 123,
   "metadata": {},
   "outputs": [
    {
     "data": {
      "text/html": [
       "<div>\n",
       "<style scoped>\n",
       "    .dataframe tbody tr th:only-of-type {\n",
       "        vertical-align: middle;\n",
       "    }\n",
       "\n",
       "    .dataframe tbody tr th {\n",
       "        vertical-align: top;\n",
       "    }\n",
       "\n",
       "    .dataframe thead th {\n",
       "        text-align: right;\n",
       "    }\n",
       "</style>\n",
       "<table border=\"1\" class=\"dataframe\">\n",
       "  <thead>\n",
       "    <tr style=\"text-align: right;\">\n",
       "      <th></th>\n",
       "      <th>nom_site</th>\n",
       "      <th>games_type</th>\n",
       "      <th>sports</th>\n",
       "      <th>start_date</th>\n",
       "      <th>end_date</th>\n",
       "      <th>adress</th>\n",
       "      <th>latitude</th>\n",
       "      <th>longitude</th>\n",
       "      <th>point_geo.lon</th>\n",
       "      <th>point_geo.lat</th>\n",
       "    </tr>\n",
       "  </thead>\n",
       "  <tbody>\n",
       "    <tr>\n",
       "      <th>39</th>\n",
       "      <td>Stade de France</td>\n",
       "      <td>olympic</td>\n",
       "      <td>Athlétisme (ATH), Rugby à 7 (RU7), Cérémonie d...</td>\n",
       "      <td>2024-07-24</td>\n",
       "      <td>2024-08-11</td>\n",
       "      <td>None</td>\n",
       "      <td>48,924475</td>\n",
       "      <td>2,360127</td>\n",
       "      <td>2.360127</td>\n",
       "      <td>48.924475</td>\n",
       "    </tr>\n",
       "    <tr>\n",
       "      <th>32</th>\n",
       "      <td>La Concorde 1</td>\n",
       "      <td>olympic</td>\n",
       "      <td>Basketball 3x3 (BK3), Breaking (BKG)</td>\n",
       "      <td>2024-07-30</td>\n",
       "      <td>2024-08-10</td>\n",
       "      <td>None</td>\n",
       "      <td>48,86640642</td>\n",
       "      <td>2,32119515</td>\n",
       "      <td>2.321195</td>\n",
       "      <td>48.866406</td>\n",
       "    </tr>\n",
       "    <tr>\n",
       "      <th>11</th>\n",
       "      <td>Marina de Marseille</td>\n",
       "      <td>olympic</td>\n",
       "      <td>Voile (SAL)</td>\n",
       "      <td>2024-07-28</td>\n",
       "      <td>2024-08-08</td>\n",
       "      <td>None</td>\n",
       "      <td>43,2661</td>\n",
       "      <td>5,3678</td>\n",
       "      <td>5.367800</td>\n",
       "      <td>43.266100</td>\n",
       "    </tr>\n",
       "  </tbody>\n",
       "</table>\n",
       "</div>"
      ],
      "text/plain": [
       "               nom_site games_type  \\\n",
       "39      Stade de France    olympic   \n",
       "32        La Concorde 1    olympic   \n",
       "11  Marina de Marseille    olympic   \n",
       "\n",
       "                                               sports  start_date    end_date  \\\n",
       "39  Athlétisme (ATH), Rugby à 7 (RU7), Cérémonie d...  2024-07-24  2024-08-11   \n",
       "32               Basketball 3x3 (BK3), Breaking (BKG)  2024-07-30  2024-08-10   \n",
       "11                                        Voile (SAL)  2024-07-28  2024-08-08   \n",
       "\n",
       "   adress     latitude   longitude  point_geo.lon  point_geo.lat  \n",
       "39   None    48,924475    2,360127       2.360127      48.924475  \n",
       "32   None  48,86640642  2,32119515       2.321195      48.866406  \n",
       "11   None      43,2661      5,3678       5.367800      43.266100  "
      ]
     },
     "execution_count": 123,
     "metadata": {},
     "output_type": "execute_result"
    }
   ],
   "source": [
    "df[\"category_id\"] = df[\"category_id\"].str.removeprefix(\"venue-\")\n",
    "df = df.rename(columns={\"category_id\": \"games_type\"})\n",
    "\n",
    "df.sample(3)"
   ]
  },
  {
   "cell_type": "markdown",
   "metadata": {},
   "source": [
    "`sports`, semble contenir plusieurs sports pour une même ligne."
   ]
  },
  {
   "cell_type": "code",
   "execution_count": 124,
   "metadata": {},
   "outputs": [
    {
     "data": {
      "text/plain": [
       "array(['Cyclisme sur route - arrivée Contre-la-montre (CRD), Natation marathon (OWS), Triathlon (TRI)',\n",
       "       'Basketball (BKB), Gymnastique artistique (GAR), Gymnastique trampoline (GTR)',\n",
       "       'Judo (JUD), Lutte (WRE)',\n",
       "       'Badminton (BDM), Gymnastique rythmique (GRY)',\n",
       "       'Para badminton (PBDM), Para Haltérophilie (PPWL)',\n",
       "       'Para cyclisme sur route (PCRD)', 'Para Tir Sportif (PSHO)',\n",
       "       'Para Natation (PSWM)', 'Cécifoot (PFBB)',\n",
       "       'Escrime (FEN), Taekwondo (TKW)',\n",
       "       'Athlétisme - départ Marathon (ATM)', 'Voile (SAL)',\n",
       "       'Football (FBL)', 'Boxe (BOX), Pentathlon moderne (MDN)',\n",
       "       'Volleyball assis (PVBS)', 'Tennis fauteuil (PWTE)',\n",
       "       'Tennis (TEN), Boxe (BOX)', 'Volley-ball (VVO)', 'Boccia (PBOC)',\n",
       "       'Surf (SRF)'], dtype=object)"
      ]
     },
     "execution_count": 124,
     "metadata": {},
     "output_type": "execute_result"
    }
   ],
   "source": [
    "df[\"sports\"].unique()[:20]"
   ]
  },
  {
   "cell_type": "markdown",
   "metadata": {},
   "source": [
    "Il y a 1, 2, 3 sports ou plus pour une même ligne mais on laisse comme cela. Par contre, on supprime le code du sport qui se trouve entre parenthèses."
   ]
  },
  {
   "cell_type": "code",
   "execution_count": 125,
   "metadata": {},
   "outputs": [
    {
     "data": {
      "text/html": [
       "<div>\n",
       "<style scoped>\n",
       "    .dataframe tbody tr th:only-of-type {\n",
       "        vertical-align: middle;\n",
       "    }\n",
       "\n",
       "    .dataframe tbody tr th {\n",
       "        vertical-align: top;\n",
       "    }\n",
       "\n",
       "    .dataframe thead th {\n",
       "        text-align: right;\n",
       "    }\n",
       "</style>\n",
       "<table border=\"1\" class=\"dataframe\">\n",
       "  <thead>\n",
       "    <tr style=\"text-align: right;\">\n",
       "      <th></th>\n",
       "      <th>nom_site</th>\n",
       "      <th>games_type</th>\n",
       "      <th>sports</th>\n",
       "      <th>start_date</th>\n",
       "      <th>end_date</th>\n",
       "      <th>adress</th>\n",
       "      <th>latitude</th>\n",
       "      <th>longitude</th>\n",
       "      <th>point_geo.lon</th>\n",
       "      <th>point_geo.lat</th>\n",
       "    </tr>\n",
       "  </thead>\n",
       "  <tbody>\n",
       "    <tr>\n",
       "      <th>40</th>\n",
       "      <td>Trocadéro</td>\n",
       "      <td>olympic</td>\n",
       "      <td>Athlétisme marche, Cyclisme sur route - Course...</td>\n",
       "      <td>2024-08-01</td>\n",
       "      <td>2024-08-07</td>\n",
       "      <td>None</td>\n",
       "      <td>48,85972558</td>\n",
       "      <td>2,29221884</td>\n",
       "      <td>2.292219</td>\n",
       "      <td>48.859726</td>\n",
       "    </tr>\n",
       "    <tr>\n",
       "      <th>21</th>\n",
       "      <td>Vélodrome National de Saint-Quentin-en-Yvelines</td>\n",
       "      <td>paralympic</td>\n",
       "      <td>Para Cyclisme sur piste</td>\n",
       "      <td>2024-08-29</td>\n",
       "      <td>2024-09-01</td>\n",
       "      <td>None</td>\n",
       "      <td>48,78800979</td>\n",
       "      <td>2.03498269</td>\n",
       "      <td>2.034983</td>\n",
       "      <td>48.788010</td>\n",
       "    </tr>\n",
       "    <tr>\n",
       "      <th>20</th>\n",
       "      <td>Tahiti Teahupo'o</td>\n",
       "      <td>olympic</td>\n",
       "      <td>Surf</td>\n",
       "      <td>2024-07-27</td>\n",
       "      <td>2024-07-30</td>\n",
       "      <td>None</td>\n",
       "      <td>-17,86693</td>\n",
       "      <td>-149,25208</td>\n",
       "      <td>-149.252080</td>\n",
       "      <td>-17.866930</td>\n",
       "    </tr>\n",
       "  </tbody>\n",
       "</table>\n",
       "</div>"
      ],
      "text/plain": [
       "                                           nom_site  games_type  \\\n",
       "40                                        Trocadéro     olympic   \n",
       "21  Vélodrome National de Saint-Quentin-en-Yvelines  paralympic   \n",
       "20                                 Tahiti Teahupo'o     olympic   \n",
       "\n",
       "                                               sports  start_date    end_date  \\\n",
       "40  Athlétisme marche, Cyclisme sur route - Course...  2024-08-01  2024-08-07   \n",
       "21                            Para Cyclisme sur piste  2024-08-29  2024-09-01   \n",
       "20                                               Surf  2024-07-27  2024-07-30   \n",
       "\n",
       "   adress     latitude   longitude  point_geo.lon  point_geo.lat  \n",
       "40   None  48,85972558  2,29221884       2.292219      48.859726  \n",
       "21   None  48,78800979  2.03498269       2.034983      48.788010  \n",
       "20   None    -17,86693  -149,25208    -149.252080     -17.866930  "
      ]
     },
     "execution_count": 125,
     "metadata": {},
     "output_type": "execute_result"
    }
   ],
   "source": [
    "df[\"sports\"] = df[\"sports\"].replace(r\"\\s*\\([^)]*\\)\", \"\", regex=True)\n",
    "\n",
    "df.sample(3)"
   ]
  },
  {
   "cell_type": "markdown",
   "metadata": {},
   "source": [
    "Les dates ne sont pas au bon format, essayons de les convertir pour voir si aucune ne pose problème."
   ]
  },
  {
   "cell_type": "code",
   "execution_count": 126,
   "metadata": {},
   "outputs": [
    {
     "data": {
      "text/plain": [
       "start_date    datetime64[ns]\n",
       "end_date      datetime64[ns]\n",
       "dtype: object"
      ]
     },
     "execution_count": 126,
     "metadata": {},
     "output_type": "execute_result"
    }
   ],
   "source": [
    "df[\"start_date\"] = pd.to_datetime(df[\"start_date\"])\n",
    "df[\"end_date\"] = pd.to_datetime(df[\"end_date\"])\n",
    "\n",
    "df[[\"start_date\", \"end_date\"]].dtypes"
   ]
  },
  {
   "cell_type": "markdown",
   "metadata": {},
   "source": [
    "La conversion a fonctionné sans erreur."
   ]
  },
  {
   "cell_type": "markdown",
   "metadata": {},
   "source": [
    "`adress`est toujours vide, on supprime la colonne."
   ]
  },
  {
   "cell_type": "code",
   "execution_count": 127,
   "metadata": {},
   "outputs": [],
   "source": [
    "df = df.drop(columns=\"adress\")"
   ]
  },
  {
   "cell_type": "markdown",
   "metadata": {},
   "source": [
    "`latitude` et `longitude` ne sont pas gardées :\n",
    "* en doublon avec `point_geo.lon` et `point_geo.lat` ;\n",
    "* pas au format numérique."
   ]
  },
  {
   "cell_type": "code",
   "execution_count": 128,
   "metadata": {},
   "outputs": [
    {
     "data": {
      "text/html": [
       "<div>\n",
       "<style scoped>\n",
       "    .dataframe tbody tr th:only-of-type {\n",
       "        vertical-align: middle;\n",
       "    }\n",
       "\n",
       "    .dataframe tbody tr th {\n",
       "        vertical-align: top;\n",
       "    }\n",
       "\n",
       "    .dataframe thead th {\n",
       "        text-align: right;\n",
       "    }\n",
       "</style>\n",
       "<table border=\"1\" class=\"dataframe\">\n",
       "  <thead>\n",
       "    <tr style=\"text-align: right;\">\n",
       "      <th></th>\n",
       "      <th>nom_site</th>\n",
       "      <th>games_type</th>\n",
       "      <th>sports</th>\n",
       "      <th>start_date</th>\n",
       "      <th>end_date</th>\n",
       "      <th>lon</th>\n",
       "      <th>lat</th>\n",
       "    </tr>\n",
       "  </thead>\n",
       "  <tbody>\n",
       "    <tr>\n",
       "      <th>42</th>\n",
       "      <td>Stade BMX de Saint-Quentin-en-Yvelines</td>\n",
       "      <td>olympic</td>\n",
       "      <td>BMX Racing</td>\n",
       "      <td>2024-09-01</td>\n",
       "      <td>2024-09-02</td>\n",
       "      <td>2.034983</td>\n",
       "      <td>48.788010</td>\n",
       "    </tr>\n",
       "    <tr>\n",
       "      <th>27</th>\n",
       "      <td>Arena Champ de Mars</td>\n",
       "      <td>paralympic</td>\n",
       "      <td>Para Judo, Rugby fauteuil</td>\n",
       "      <td>2024-08-29</td>\n",
       "      <td>2024-09-07</td>\n",
       "      <td>2.302520</td>\n",
       "      <td>48.853100</td>\n",
       "    </tr>\n",
       "    <tr>\n",
       "      <th>30</th>\n",
       "      <td>Colline d’Elancourt</td>\n",
       "      <td>olympic</td>\n",
       "      <td>Cyclisme VTT</td>\n",
       "      <td>2024-07-28</td>\n",
       "      <td>2024-07-29</td>\n",
       "      <td>1.964238</td>\n",
       "      <td>48.789811</td>\n",
       "    </tr>\n",
       "  </tbody>\n",
       "</table>\n",
       "</div>"
      ],
      "text/plain": [
       "                                  nom_site  games_type  \\\n",
       "42  Stade BMX de Saint-Quentin-en-Yvelines     olympic   \n",
       "27                     Arena Champ de Mars  paralympic   \n",
       "30                     Colline d’Elancourt     olympic   \n",
       "\n",
       "                       sports start_date   end_date       lon        lat  \n",
       "42                 BMX Racing 2024-09-01 2024-09-02  2.034983  48.788010  \n",
       "27  Para Judo, Rugby fauteuil 2024-08-29 2024-09-07  2.302520  48.853100  \n",
       "30               Cyclisme VTT 2024-07-28 2024-07-29  1.964238  48.789811  "
      ]
     },
     "execution_count": 128,
     "metadata": {},
     "output_type": "execute_result"
    }
   ],
   "source": [
    "df = df.drop(columns=[\"latitude\", \"longitude\"])\n",
    "\n",
    "df = df.rename(columns={\"point_geo.lon\": \"lon\", \"point_geo.lat\": \"lat\"})\n",
    "\n",
    "df.sample(3)"
   ]
  },
  {
   "cell_type": "markdown",
   "metadata": {},
   "source": [
    "Le dataset est prêt à être exporté."
   ]
  },
  {
   "cell_type": "code",
   "execution_count": 129,
   "metadata": {},
   "outputs": [],
   "source": [
    "# df.to_json(\"datasets/jop2024-competition-sites.json\", orient=\"index\", indent=4, date_format=\"iso\")"
   ]
  },
  {
   "cell_type": "markdown",
   "metadata": {},
   "source": [
    "## Jeu de données : événements olympiade culturelle"
   ]
  },
  {
   "cell_type": "code",
   "execution_count": 131,
   "metadata": {},
   "outputs": [],
   "source": [
    "with open(\"datasets/raw/paris-2024-evenements-olympiade-culturelle.json\", \"r\", encoding=\"utf-8\") as f:\n",
    "    data = json.load(f)\n",
    "\n",
    "df = pd.json_normalize(data)"
   ]
  },
  {
   "cell_type": "code",
   "execution_count": 132,
   "metadata": {},
   "outputs": [
    {
     "data": {
      "text/html": [
       "<div>\n",
       "<style scoped>\n",
       "    .dataframe tbody tr th:only-of-type {\n",
       "        vertical-align: middle;\n",
       "    }\n",
       "\n",
       "    .dataframe tbody tr th {\n",
       "        vertical-align: top;\n",
       "    }\n",
       "\n",
       "    .dataframe thead th {\n",
       "        text-align: right;\n",
       "    }\n",
       "</style>\n",
       "<table border=\"1\" class=\"dataframe\">\n",
       "  <thead>\n",
       "    <tr style=\"text-align: right;\">\n",
       "      <th></th>\n",
       "      <th>project_oc_r_id</th>\n",
       "      <th>id</th>\n",
       "      <th>name</th>\n",
       "      <th>nom_de_la_structure_c</th>\n",
       "      <th>presentation_synthetique_du_projet_c</th>\n",
       "      <th>date_de_debut_c</th>\n",
       "      <th>date_de_fin_c</th>\n",
       "      <th>public_adresse_c</th>\n",
       "      <th>lieu_de_presentation_c</th>\n",
       "      <th>adresse_c</th>\n",
       "      <th>...</th>\n",
       "      <th>commune</th>\n",
       "      <th>tarif_du_projet_c</th>\n",
       "      <th>veuillez_preciser_les_tarifs_du_projet_c</th>\n",
       "      <th>instagram_link</th>\n",
       "      <th>facebook_link</th>\n",
       "      <th>twitter_link</th>\n",
       "      <th>discipline_principale_du_projet_c</th>\n",
       "      <th>geolocation.lon</th>\n",
       "      <th>geolocation.lat</th>\n",
       "      <th>geolocation</th>\n",
       "    </tr>\n",
       "  </thead>\n",
       "  <tbody>\n",
       "    <tr>\n",
       "      <th>0</th>\n",
       "      <td>a7e2o0000000P6GAAU</td>\n",
       "      <td>a7f2o00000006cFAAQ</td>\n",
       "      <td>Concrete Block Party</td>\n",
       "      <td>Rara Woulib</td>\n",
       "      <td>\"Riding Block Party\" est une installation urba...</td>\n",
       "      <td>2024-05-25T12:00:00+00:00</td>\n",
       "      <td>2024-05-25T19:00:00+00:00</td>\n",
       "      <td>Tous publics</td>\n",
       "      <td>Place Villeneuve-Bargemon</td>\n",
       "      <td>Place Villeneuve - Bargemon, 13002 Marseille, ...</td>\n",
       "      <td>...</td>\n",
       "      <td>Marseille</td>\n",
       "      <td>Gratuit</td>\n",
       "      <td>None</td>\n",
       "      <td>https://www.instagram.com/cie_rarawoulib/</td>\n",
       "      <td>https://www.facebook.com/cierarawoulib/</td>\n",
       "      <td>None</td>\n",
       "      <td>[Arts de la rue]</td>\n",
       "      <td>5.370179</td>\n",
       "      <td>43.296731</td>\n",
       "      <td>NaN</td>\n",
       "    </tr>\n",
       "    <tr>\n",
       "      <th>1</th>\n",
       "      <td>a7e2o0000000P6LAAU</td>\n",
       "      <td>a7f2o00000006cKAAQ</td>\n",
       "      <td>Les Coureurs</td>\n",
       "      <td>Barroco Théâtre</td>\n",
       "      <td>\"Les marathoniens sont des animaux étranges qu...</td>\n",
       "      <td>2023-09-03T07:00:00+00:00</td>\n",
       "      <td>2023-09-03T09:30:00+00:00</td>\n",
       "      <td>Tous publics</td>\n",
       "      <td>St Etienne de Chigny</td>\n",
       "      <td>37230 Saint-Étienne-de-Chigny, France</td>\n",
       "      <td>...</td>\n",
       "      <td>Saint-Étienne-de-Chigny</td>\n",
       "      <td>Gratuit</td>\n",
       "      <td>None</td>\n",
       "      <td>None</td>\n",
       "      <td>https://www.facebook.com/barrocotheatre37</td>\n",
       "      <td>None</td>\n",
       "      <td>[Théâtre]</td>\n",
       "      <td>0.526444</td>\n",
       "      <td>47.383122</td>\n",
       "      <td>NaN</td>\n",
       "    </tr>\n",
       "    <tr>\n",
       "      <th>2</th>\n",
       "      <td>a7e2o0000000PBRAA2</td>\n",
       "      <td>a7f2o00000008NZAAY</td>\n",
       "      <td>L'Art du Sport à Saint-Cloud - Au delà de la c...</td>\n",
       "      <td>Espace Clodoaldien Loisirs Animation</td>\n",
       "      <td>Très souvent, la photo se passe de légende. El...</td>\n",
       "      <td>2024-02-05T07:00:00+00:00</td>\n",
       "      <td>2024-04-07T09:39:00+00:00</td>\n",
       "      <td>Tous publics</td>\n",
       "      <td>Le Carré</td>\n",
       "      <td>3 Bis Rue d'Orléans, 92210 Saint-Cloud, France</td>\n",
       "      <td>...</td>\n",
       "      <td>Saint-Cloud</td>\n",
       "      <td>Gratuit</td>\n",
       "      <td>None</td>\n",
       "      <td>None</td>\n",
       "      <td>None</td>\n",
       "      <td>None</td>\n",
       "      <td>[Photographie]</td>\n",
       "      <td>2.218907</td>\n",
       "      <td>48.840286</td>\n",
       "      <td>NaN</td>\n",
       "    </tr>\n",
       "  </tbody>\n",
       "</table>\n",
       "<p>3 rows × 23 columns</p>\n",
       "</div>"
      ],
      "text/plain": [
       "      project_oc_r_id                  id  \\\n",
       "0  a7e2o0000000P6GAAU  a7f2o00000006cFAAQ   \n",
       "1  a7e2o0000000P6LAAU  a7f2o00000006cKAAQ   \n",
       "2  a7e2o0000000PBRAA2  a7f2o00000008NZAAY   \n",
       "\n",
       "                                                name  \\\n",
       "0                               Concrete Block Party   \n",
       "1                                       Les Coureurs   \n",
       "2  L'Art du Sport à Saint-Cloud - Au delà de la c...   \n",
       "\n",
       "                  nom_de_la_structure_c  \\\n",
       "0                           Rara Woulib   \n",
       "1                       Barroco Théâtre   \n",
       "2  Espace Clodoaldien Loisirs Animation   \n",
       "\n",
       "                presentation_synthetique_du_projet_c  \\\n",
       "0  \"Riding Block Party\" est une installation urba...   \n",
       "1  \"Les marathoniens sont des animaux étranges qu...   \n",
       "2  Très souvent, la photo se passe de légende. El...   \n",
       "\n",
       "             date_de_debut_c              date_de_fin_c public_adresse_c  \\\n",
       "0  2024-05-25T12:00:00+00:00  2024-05-25T19:00:00+00:00     Tous publics   \n",
       "1  2023-09-03T07:00:00+00:00  2023-09-03T09:30:00+00:00     Tous publics   \n",
       "2  2024-02-05T07:00:00+00:00  2024-04-07T09:39:00+00:00     Tous publics   \n",
       "\n",
       "      lieu_de_presentation_c  \\\n",
       "0  Place Villeneuve-Bargemon   \n",
       "1       St Etienne de Chigny   \n",
       "2                   Le Carré   \n",
       "\n",
       "                                           adresse_c  ...  \\\n",
       "0  Place Villeneuve - Bargemon, 13002 Marseille, ...  ...   \n",
       "1              37230 Saint-Étienne-de-Chigny, France  ...   \n",
       "2     3 Bis Rue d'Orléans, 92210 Saint-Cloud, France  ...   \n",
       "\n",
       "                   commune tarif_du_projet_c  \\\n",
       "0                Marseille           Gratuit   \n",
       "1  Saint-Étienne-de-Chigny           Gratuit   \n",
       "2              Saint-Cloud           Gratuit   \n",
       "\n",
       "   veuillez_preciser_les_tarifs_du_projet_c  \\\n",
       "0                                      None   \n",
       "1                                      None   \n",
       "2                                      None   \n",
       "\n",
       "                              instagram_link  \\\n",
       "0  https://www.instagram.com/cie_rarawoulib/   \n",
       "1                                       None   \n",
       "2                                       None   \n",
       "\n",
       "                               facebook_link twitter_link  \\\n",
       "0    https://www.facebook.com/cierarawoulib/         None   \n",
       "1  https://www.facebook.com/barrocotheatre37         None   \n",
       "2                                       None         None   \n",
       "\n",
       "  discipline_principale_du_projet_c geolocation.lon geolocation.lat  \\\n",
       "0                  [Arts de la rue]        5.370179       43.296731   \n",
       "1                         [Théâtre]        0.526444       47.383122   \n",
       "2                    [Photographie]        2.218907       48.840286   \n",
       "\n",
       "  geolocation  \n",
       "0         NaN  \n",
       "1         NaN  \n",
       "2         NaN  \n",
       "\n",
       "[3 rows x 23 columns]"
      ]
     },
     "execution_count": 132,
     "metadata": {},
     "output_type": "execute_result"
    }
   ],
   "source": [
    "df.head(3)"
   ]
  },
  {
   "cell_type": "code",
   "execution_count": 133,
   "metadata": {},
   "outputs": [
    {
     "data": {
      "text/html": [
       "<div>\n",
       "<style scoped>\n",
       "    .dataframe tbody tr th:only-of-type {\n",
       "        vertical-align: middle;\n",
       "    }\n",
       "\n",
       "    .dataframe tbody tr th {\n",
       "        vertical-align: top;\n",
       "    }\n",
       "\n",
       "    .dataframe thead th {\n",
       "        text-align: right;\n",
       "    }\n",
       "</style>\n",
       "<table border=\"1\" class=\"dataframe\">\n",
       "  <thead>\n",
       "    <tr style=\"text-align: right;\">\n",
       "      <th></th>\n",
       "      <th>project_oc_r_id</th>\n",
       "      <th>id</th>\n",
       "      <th>name</th>\n",
       "      <th>nom_de_la_structure_c</th>\n",
       "      <th>presentation_synthetique_du_projet_c</th>\n",
       "      <th>date_de_debut_c</th>\n",
       "      <th>date_de_fin_c</th>\n",
       "      <th>public_adresse_c</th>\n",
       "      <th>lieu_de_presentation_c</th>\n",
       "      <th>adresse_c</th>\n",
       "      <th>...</th>\n",
       "      <th>commune</th>\n",
       "      <th>tarif_du_projet_c</th>\n",
       "      <th>veuillez_preciser_les_tarifs_du_projet_c</th>\n",
       "      <th>instagram_link</th>\n",
       "      <th>facebook_link</th>\n",
       "      <th>twitter_link</th>\n",
       "      <th>discipline_principale_du_projet_c</th>\n",
       "      <th>geolocation.lon</th>\n",
       "      <th>geolocation.lat</th>\n",
       "      <th>geolocation</th>\n",
       "    </tr>\n",
       "  </thead>\n",
       "  <tbody>\n",
       "    <tr>\n",
       "      <th>2898</th>\n",
       "      <td>a7e2o000000LIKJAA4</td>\n",
       "      <td>a7f2o000000LidLAAS</td>\n",
       "      <td>Jazz des cinq continents</td>\n",
       "      <td>Conservatoire Charles Munch - CMA11</td>\n",
       "      <td>Le département Jazz du conservatoire Charles M...</td>\n",
       "      <td>2023-06-23T17:00:00+00:00</td>\n",
       "      <td>2023-06-23T19:00:00+00:00</td>\n",
       "      <td>Tous publics</td>\n",
       "      <td>maison des métallos</td>\n",
       "      <td>94 Rue Jean-Pierre Timbaud</td>\n",
       "      <td>...</td>\n",
       "      <td>Paris</td>\n",
       "      <td>Gratuit</td>\n",
       "      <td>None</td>\n",
       "      <td>None</td>\n",
       "      <td>None</td>\n",
       "      <td>None</td>\n",
       "      <td>[Musique]</td>\n",
       "      <td>2.377780</td>\n",
       "      <td>48.867697</td>\n",
       "      <td>NaN</td>\n",
       "    </tr>\n",
       "    <tr>\n",
       "      <th>3164</th>\n",
       "      <td>a7e2o000000PDKBAA4</td>\n",
       "      <td>a7f2o000000PchjAAC</td>\n",
       "      <td>Les orchestres à l'école accompagnent la flamme</td>\n",
       "      <td>Association orchestre à l'école</td>\n",
       "      <td>Du 8 mai au 24 juillet 2024, la Flamme Olympiq...</td>\n",
       "      <td>2024-06-04T09:30:00+00:00</td>\n",
       "      <td>2024-06-04T10:30:00+00:00</td>\n",
       "      <td>Tous publics</td>\n",
       "      <td>Espace public</td>\n",
       "      <td>Rue du Maréchal Joffre, 85000 La Roche-sur-Yon...</td>\n",
       "      <td>...</td>\n",
       "      <td>La Roche-sur-Yon</td>\n",
       "      <td>Gratuit</td>\n",
       "      <td>None</td>\n",
       "      <td>https://www.instagram.com/orchestrealecole.ass...</td>\n",
       "      <td>https://www.facebook.com/OrchestrealEcole/?loc...</td>\n",
       "      <td>https://x.com/Orchestreecole?ref_src=twsrc%5Eg...</td>\n",
       "      <td>[Musique]</td>\n",
       "      <td>-1.425095</td>\n",
       "      <td>46.667445</td>\n",
       "      <td>NaN</td>\n",
       "    </tr>\n",
       "    <tr>\n",
       "      <th>1234</th>\n",
       "      <td>a7e2o0000004LrtAAE</td>\n",
       "      <td>a7f2o0000004U72AAE</td>\n",
       "      <td>Visite-atelier en famille</td>\n",
       "      <td>Musée Dauphinois</td>\n",
       "      <td>Visites-ateliers en famille\\nUne visite spécia...</td>\n",
       "      <td>2024-08-21T13:00:00+00:00</td>\n",
       "      <td>2024-08-21T14:30:00+00:00</td>\n",
       "      <td>Jeune public</td>\n",
       "      <td>Musée dauphinois</td>\n",
       "      <td>30 Rue Maurice Gignoux, 38000 Grenoble, France</td>\n",
       "      <td>...</td>\n",
       "      <td>Grenoble</td>\n",
       "      <td>Payant</td>\n",
       "      <td>3,80 Euros par enfant</td>\n",
       "      <td>https://www.instagram.com/museedauphinois/</td>\n",
       "      <td>https://www.facebook.com/museedauphinois?ref=hl#</td>\n",
       "      <td>None</td>\n",
       "      <td>[Arts visuels/plastiques]</td>\n",
       "      <td>5.726660</td>\n",
       "      <td>45.194946</td>\n",
       "      <td>NaN</td>\n",
       "    </tr>\n",
       "  </tbody>\n",
       "</table>\n",
       "<p>3 rows × 23 columns</p>\n",
       "</div>"
      ],
      "text/plain": [
       "         project_oc_r_id                  id  \\\n",
       "2898  a7e2o000000LIKJAA4  a7f2o000000LidLAAS   \n",
       "3164  a7e2o000000PDKBAA4  a7f2o000000PchjAAC   \n",
       "1234  a7e2o0000004LrtAAE  a7f2o0000004U72AAE   \n",
       "\n",
       "                                                 name  \\\n",
       "2898                         Jazz des cinq continents   \n",
       "3164  Les orchestres à l'école accompagnent la flamme   \n",
       "1234                        Visite-atelier en famille   \n",
       "\n",
       "                    nom_de_la_structure_c  \\\n",
       "2898  Conservatoire Charles Munch - CMA11   \n",
       "3164      Association orchestre à l'école   \n",
       "1234                     Musée Dauphinois   \n",
       "\n",
       "                   presentation_synthetique_du_projet_c  \\\n",
       "2898  Le département Jazz du conservatoire Charles M...   \n",
       "3164  Du 8 mai au 24 juillet 2024, la Flamme Olympiq...   \n",
       "1234  Visites-ateliers en famille\\nUne visite spécia...   \n",
       "\n",
       "                date_de_debut_c              date_de_fin_c public_adresse_c  \\\n",
       "2898  2023-06-23T17:00:00+00:00  2023-06-23T19:00:00+00:00     Tous publics   \n",
       "3164  2024-06-04T09:30:00+00:00  2024-06-04T10:30:00+00:00     Tous publics   \n",
       "1234  2024-08-21T13:00:00+00:00  2024-08-21T14:30:00+00:00     Jeune public   \n",
       "\n",
       "     lieu_de_presentation_c  \\\n",
       "2898    maison des métallos   \n",
       "3164          Espace public   \n",
       "1234       Musée dauphinois   \n",
       "\n",
       "                                              adresse_c  ...  \\\n",
       "2898                         94 Rue Jean-Pierre Timbaud  ...   \n",
       "3164  Rue du Maréchal Joffre, 85000 La Roche-sur-Yon...  ...   \n",
       "1234     30 Rue Maurice Gignoux, 38000 Grenoble, France  ...   \n",
       "\n",
       "               commune tarif_du_projet_c  \\\n",
       "2898             Paris           Gratuit   \n",
       "3164  La Roche-sur-Yon           Gratuit   \n",
       "1234          Grenoble            Payant   \n",
       "\n",
       "      veuillez_preciser_les_tarifs_du_projet_c  \\\n",
       "2898                                      None   \n",
       "3164                                      None   \n",
       "1234                     3,80 Euros par enfant   \n",
       "\n",
       "                                         instagram_link  \\\n",
       "2898                                               None   \n",
       "3164  https://www.instagram.com/orchestrealecole.ass...   \n",
       "1234         https://www.instagram.com/museedauphinois/   \n",
       "\n",
       "                                          facebook_link  \\\n",
       "2898                                               None   \n",
       "3164  https://www.facebook.com/OrchestrealEcole/?loc...   \n",
       "1234   https://www.facebook.com/museedauphinois?ref=hl#   \n",
       "\n",
       "                                           twitter_link  \\\n",
       "2898                                               None   \n",
       "3164  https://x.com/Orchestreecole?ref_src=twsrc%5Eg...   \n",
       "1234                                               None   \n",
       "\n",
       "     discipline_principale_du_projet_c geolocation.lon geolocation.lat  \\\n",
       "2898                         [Musique]        2.377780       48.867697   \n",
       "3164                         [Musique]       -1.425095       46.667445   \n",
       "1234         [Arts visuels/plastiques]        5.726660       45.194946   \n",
       "\n",
       "     geolocation  \n",
       "2898         NaN  \n",
       "3164         NaN  \n",
       "1234         NaN  \n",
       "\n",
       "[3 rows x 23 columns]"
      ]
     },
     "execution_count": 133,
     "metadata": {},
     "output_type": "execute_result"
    }
   ],
   "source": [
    "df.sample(3)"
   ]
  },
  {
   "cell_type": "code",
   "execution_count": 134,
   "metadata": {},
   "outputs": [
    {
     "data": {
      "text/plain": [
       "(4262, 23)"
      ]
     },
     "execution_count": 134,
     "metadata": {},
     "output_type": "execute_result"
    }
   ],
   "source": [
    "df.shape"
   ]
  },
  {
   "cell_type": "code",
   "execution_count": 135,
   "metadata": {},
   "outputs": [
    {
     "data": {
      "text/plain": [
       "Index(['project_oc_r_id', 'id', 'name', 'nom_de_la_structure_c',\n",
       "       'presentation_synthetique_du_projet_c', 'date_de_debut_c',\n",
       "       'date_de_fin_c', 'public_adresse_c', 'lieu_de_presentation_c',\n",
       "       'adresse_c', 'longitude_c', 'latitude_c', 'departement', 'commune',\n",
       "       'tarif_du_projet_c', 'veuillez_preciser_les_tarifs_du_projet_c',\n",
       "       'instagram_link', 'facebook_link', 'twitter_link',\n",
       "       'discipline_principale_du_projet_c', 'geolocation.lon',\n",
       "       'geolocation.lat', 'geolocation'],\n",
       "      dtype='object')"
      ]
     },
     "execution_count": 135,
     "metadata": {},
     "output_type": "execute_result"
    }
   ],
   "source": [
    "df.columns"
   ]
  },
  {
   "cell_type": "code",
   "execution_count": 136,
   "metadata": {},
   "outputs": [
    {
     "data": {
      "text/plain": [
       "project_oc_r_id                              object\n",
       "id                                           object\n",
       "name                                         object\n",
       "nom_de_la_structure_c                        object\n",
       "presentation_synthetique_du_projet_c         object\n",
       "date_de_debut_c                              object\n",
       "date_de_fin_c                                object\n",
       "public_adresse_c                             object\n",
       "lieu_de_presentation_c                       object\n",
       "adresse_c                                    object\n",
       "longitude_c                                  object\n",
       "latitude_c                                   object\n",
       "departement                                 float64\n",
       "commune                                      object\n",
       "tarif_du_projet_c                            object\n",
       "veuillez_preciser_les_tarifs_du_projet_c     object\n",
       "instagram_link                               object\n",
       "facebook_link                                object\n",
       "twitter_link                                 object\n",
       "discipline_principale_du_projet_c            object\n",
       "geolocation.lon                             float64\n",
       "geolocation.lat                             float64\n",
       "geolocation                                 float64\n",
       "dtype: object"
      ]
     },
     "execution_count": 136,
     "metadata": {},
     "output_type": "execute_result"
    }
   ],
   "source": [
    "df.dtypes"
   ]
  },
  {
   "cell_type": "code",
   "execution_count": 137,
   "metadata": {},
   "outputs": [
    {
     "data": {
      "text/plain": [
       "project_oc_r_id                                0\n",
       "id                                             0\n",
       "name                                           0\n",
       "nom_de_la_structure_c                          0\n",
       "presentation_synthetique_du_projet_c          47\n",
       "date_de_debut_c                                0\n",
       "date_de_fin_c                                  0\n",
       "public_adresse_c                               0\n",
       "lieu_de_presentation_c                         2\n",
       "adresse_c                                      1\n",
       "longitude_c                                   57\n",
       "latitude_c                                    57\n",
       "departement                                   92\n",
       "commune                                       89\n",
       "tarif_du_projet_c                            174\n",
       "veuillez_preciser_les_tarifs_du_projet_c    3147\n",
       "instagram_link                              1979\n",
       "facebook_link                               1575\n",
       "twitter_link                                3133\n",
       "discipline_principale_du_projet_c              0\n",
       "geolocation.lon                               58\n",
       "geolocation.lat                               58\n",
       "geolocation                                 4262\n",
       "dtype: int64"
      ]
     },
     "execution_count": 137,
     "metadata": {},
     "output_type": "execute_result"
    }
   ],
   "source": [
    "df.isna().sum()"
   ]
  },
  {
   "cell_type": "code",
   "execution_count": 138,
   "metadata": {},
   "outputs": [
    {
     "name": "stdout",
     "output_type": "stream",
     "text": [
      "nunique() :\n",
      "- project_oc_r_id : 2493\n",
      "- id : 4262\n",
      "- name : 2420\n"
     ]
    }
   ],
   "source": [
    "print(\n",
    "    f\"nunique() :\\n\"\n",
    "    f\"- project_oc_r_id : {df['project_oc_r_id'].nunique()}\\n\"\n",
    "    f\"- id : {df['id'].nunique()}\\n\"\n",
    "    f\"- name : {df['name'].nunique()}\"\n",
    ")"
   ]
  },
  {
   "cell_type": "markdown",
   "metadata": {},
   "source": [
    "Le nombre d'`id` correspond au nombre d'enregistrements mais ce n'est ni le cas de `project_oc_r_id`ou `name`."
   ]
  },
  {
   "cell_type": "code",
   "execution_count": 139,
   "metadata": {},
   "outputs": [
    {
     "data": {
      "text/plain": [
       "name\n",
       "Atelier pop-up Totems sports                                              18\n",
       "BOOST                                                                     15\n",
       "Expositions \"Art et Sport\"                                                14\n",
       "Tour de Provence culturel en e-vélo                                       10\n",
       "13 en Jeux                                                                10\n",
       "                                                                          ..\n",
       "L’exposition des Affiches Artistiques de Paris 2024 à L'Aigle              1\n",
       "L’exposition des Affiches Artistiques de Paris 2024 à Paris 20             1\n",
       "L’exposition des Affiches Artistiques de Paris 2024 au lycée Vauquelin     1\n",
       "Exposition des affiches artistiques de Paris 2024 à Blanche Paris          1\n",
       "Nuit Blanche                                                               1\n",
       "Name: count, Length: 2420, dtype: int64"
      ]
     },
     "execution_count": 139,
     "metadata": {},
     "output_type": "execute_result"
    }
   ],
   "source": [
    "df[\"name\"].value_counts()"
   ]
  },
  {
   "cell_type": "code",
   "execution_count": 140,
   "metadata": {},
   "outputs": [
    {
     "data": {
      "text/html": [
       "<div>\n",
       "<style scoped>\n",
       "    .dataframe tbody tr th:only-of-type {\n",
       "        vertical-align: middle;\n",
       "    }\n",
       "\n",
       "    .dataframe tbody tr th {\n",
       "        vertical-align: top;\n",
       "    }\n",
       "\n",
       "    .dataframe thead th {\n",
       "        text-align: right;\n",
       "    }\n",
       "</style>\n",
       "<table border=\"1\" class=\"dataframe\">\n",
       "  <thead>\n",
       "    <tr style=\"text-align: right;\">\n",
       "      <th></th>\n",
       "      <th>project_oc_r_id</th>\n",
       "      <th>id</th>\n",
       "      <th>name</th>\n",
       "      <th>nom_de_la_structure_c</th>\n",
       "      <th>presentation_synthetique_du_projet_c</th>\n",
       "      <th>date_de_debut_c</th>\n",
       "      <th>date_de_fin_c</th>\n",
       "      <th>public_adresse_c</th>\n",
       "      <th>lieu_de_presentation_c</th>\n",
       "      <th>adresse_c</th>\n",
       "      <th>...</th>\n",
       "      <th>commune</th>\n",
       "      <th>tarif_du_projet_c</th>\n",
       "      <th>veuillez_preciser_les_tarifs_du_projet_c</th>\n",
       "      <th>instagram_link</th>\n",
       "      <th>facebook_link</th>\n",
       "      <th>twitter_link</th>\n",
       "      <th>discipline_principale_du_projet_c</th>\n",
       "      <th>geolocation.lon</th>\n",
       "      <th>geolocation.lat</th>\n",
       "      <th>geolocation</th>\n",
       "    </tr>\n",
       "  </thead>\n",
       "  <tbody>\n",
       "    <tr>\n",
       "      <th>15</th>\n",
       "      <td>a7e2o0000000PEaAAM</td>\n",
       "      <td>a7f2o00000006foAAA</td>\n",
       "      <td>BOOST</td>\n",
       "      <td>Rencontres Chorégraphiques Internationales de ...</td>\n",
       "      <td>La saison BOOST commencée en septembre 2023 à ...</td>\n",
       "      <td>2024-04-28T11:30:00+00:00</td>\n",
       "      <td>2024-04-28T16:00:00+00:00</td>\n",
       "      <td>Tous publics</td>\n",
       "      <td>CGT de Montreuil</td>\n",
       "      <td>263 Rue de Paris, 93100 Montreuil, France</td>\n",
       "      <td>...</td>\n",
       "      <td>Montreuil</td>\n",
       "      <td>Payant</td>\n",
       "      <td>Réservez vos places sur la billetterie, direct...</td>\n",
       "      <td>https://www.instagram.com/lesrencontreschoregr...</td>\n",
       "      <td>https://www.facebook.com/rencontres.choregraph...</td>\n",
       "      <td>None</td>\n",
       "      <td>[Danse]</td>\n",
       "      <td>2.416288</td>\n",
       "      <td>48.854348</td>\n",
       "      <td>NaN</td>\n",
       "    </tr>\n",
       "    <tr>\n",
       "      <th>508</th>\n",
       "      <td>a7e2o0000000R35AAE</td>\n",
       "      <td>a7f2o00000008LyAAI</td>\n",
       "      <td>BOOST</td>\n",
       "      <td>Rencontres Chorégraphiques Internationales de ...</td>\n",
       "      <td>La saison BOOST commencée en septembre 2023 à ...</td>\n",
       "      <td>2024-05-03T17:30:00+00:00</td>\n",
       "      <td>2024-05-03T18:00:00+00:00</td>\n",
       "      <td>Tous publics</td>\n",
       "      <td>Parvis du théâtre du Garde-Chasse</td>\n",
       "      <td>181 bis Rue de Paris, 93260 Les Lilas, France</td>\n",
       "      <td>...</td>\n",
       "      <td>Les Lilas</td>\n",
       "      <td>Payant</td>\n",
       "      <td>Réservez vos places sur la billetterie, direct...</td>\n",
       "      <td>https://www.instagram.com/rencontreschoregraph...</td>\n",
       "      <td>https://www.facebook.com/rencontres.choregraph...</td>\n",
       "      <td>None</td>\n",
       "      <td>[Danse]</td>\n",
       "      <td>2.420070</td>\n",
       "      <td>48.881069</td>\n",
       "      <td>NaN</td>\n",
       "    </tr>\n",
       "    <tr>\n",
       "      <th>510</th>\n",
       "      <td>a7e2o0000000R35AAE</td>\n",
       "      <td>a7f2o00000008M0AAI</td>\n",
       "      <td>BOOST</td>\n",
       "      <td>Rencontres Chorégraphiques Internationales de ...</td>\n",
       "      <td>La saison BOOST commencée en septembre 2023 à ...</td>\n",
       "      <td>2024-05-04T12:00:00+00:00</td>\n",
       "      <td>2024-05-04T21:00:00+00:00</td>\n",
       "      <td>Tous publics</td>\n",
       "      <td>Théâtre du Fil de l'Eau</td>\n",
       "      <td>20 Rue Delizy, 93500 Pantin, France</td>\n",
       "      <td>...</td>\n",
       "      <td>Pantin</td>\n",
       "      <td>Payant</td>\n",
       "      <td>Réservez vos places sur la billetterie, direct...</td>\n",
       "      <td>https://www.instagram.com/rencontreschoregraph...</td>\n",
       "      <td>https://www.facebook.com/rencontres.choregraph...</td>\n",
       "      <td>None</td>\n",
       "      <td>[Danse]</td>\n",
       "      <td>2.411070</td>\n",
       "      <td>48.895346</td>\n",
       "      <td>NaN</td>\n",
       "    </tr>\n",
       "  </tbody>\n",
       "</table>\n",
       "<p>3 rows × 23 columns</p>\n",
       "</div>"
      ],
      "text/plain": [
       "        project_oc_r_id                  id   name  \\\n",
       "15   a7e2o0000000PEaAAM  a7f2o00000006foAAA  BOOST   \n",
       "508  a7e2o0000000R35AAE  a7f2o00000008LyAAI  BOOST   \n",
       "510  a7e2o0000000R35AAE  a7f2o00000008M0AAI  BOOST   \n",
       "\n",
       "                                 nom_de_la_structure_c  \\\n",
       "15   Rencontres Chorégraphiques Internationales de ...   \n",
       "508  Rencontres Chorégraphiques Internationales de ...   \n",
       "510  Rencontres Chorégraphiques Internationales de ...   \n",
       "\n",
       "                  presentation_synthetique_du_projet_c  \\\n",
       "15   La saison BOOST commencée en septembre 2023 à ...   \n",
       "508  La saison BOOST commencée en septembre 2023 à ...   \n",
       "510  La saison BOOST commencée en septembre 2023 à ...   \n",
       "\n",
       "               date_de_debut_c              date_de_fin_c public_adresse_c  \\\n",
       "15   2024-04-28T11:30:00+00:00  2024-04-28T16:00:00+00:00     Tous publics   \n",
       "508  2024-05-03T17:30:00+00:00  2024-05-03T18:00:00+00:00     Tous publics   \n",
       "510  2024-05-04T12:00:00+00:00  2024-05-04T21:00:00+00:00     Tous publics   \n",
       "\n",
       "                lieu_de_presentation_c  \\\n",
       "15                    CGT de Montreuil   \n",
       "508  Parvis du théâtre du Garde-Chasse   \n",
       "510            Théâtre du Fil de l'Eau   \n",
       "\n",
       "                                         adresse_c  ...    commune  \\\n",
       "15       263 Rue de Paris, 93100 Montreuil, France  ...  Montreuil   \n",
       "508  181 bis Rue de Paris, 93260 Les Lilas, France  ...  Les Lilas   \n",
       "510            20 Rue Delizy, 93500 Pantin, France  ...     Pantin   \n",
       "\n",
       "    tarif_du_projet_c           veuillez_preciser_les_tarifs_du_projet_c  \\\n",
       "15             Payant  Réservez vos places sur la billetterie, direct...   \n",
       "508            Payant  Réservez vos places sur la billetterie, direct...   \n",
       "510            Payant  Réservez vos places sur la billetterie, direct...   \n",
       "\n",
       "                                        instagram_link  \\\n",
       "15   https://www.instagram.com/lesrencontreschoregr...   \n",
       "508  https://www.instagram.com/rencontreschoregraph...   \n",
       "510  https://www.instagram.com/rencontreschoregraph...   \n",
       "\n",
       "                                         facebook_link twitter_link  \\\n",
       "15   https://www.facebook.com/rencontres.choregraph...         None   \n",
       "508  https://www.facebook.com/rencontres.choregraph...         None   \n",
       "510  https://www.facebook.com/rencontres.choregraph...         None   \n",
       "\n",
       "    discipline_principale_du_projet_c geolocation.lon geolocation.lat  \\\n",
       "15                            [Danse]        2.416288       48.854348   \n",
       "508                           [Danse]        2.420070       48.881069   \n",
       "510                           [Danse]        2.411070       48.895346   \n",
       "\n",
       "    geolocation  \n",
       "15          NaN  \n",
       "508         NaN  \n",
       "510         NaN  \n",
       "\n",
       "[3 rows x 23 columns]"
      ]
     },
     "execution_count": 140,
     "metadata": {},
     "output_type": "execute_result"
    }
   ],
   "source": [
    "df.loc[df[\"name\"] == \"BOOST\"][:3]"
   ]
  },
  {
   "cell_type": "markdown",
   "metadata": {},
   "source": [
    "Un même événement peu avoir lieu plusieurs fois, soit au même endroit à des horaires différents ou alors à d'autres endroits. On va supprimer les deux colonnes relatives aux id car elles ne nous servirons pas."
   ]
  },
  {
   "cell_type": "code",
   "execution_count": 141,
   "metadata": {},
   "outputs": [],
   "source": [
    "df = df.drop(columns=[\"project_oc_r_id\", \"id\"])"
   ]
  },
  {
   "cell_type": "code",
   "execution_count": 142,
   "metadata": {},
   "outputs": [
    {
     "name": "stdout",
     "output_type": "stream",
     "text": [
      "unhashable type: 'list'\n"
     ]
    }
   ],
   "source": [
    "try:\n",
    "    df.nunique()\n",
    "except Exception as e:\n",
    "    print(e)"
   ]
  },
  {
   "cell_type": "markdown",
   "metadata": {},
   "source": [
    "Une des colonnes contient des valeurs considérées comme une liste."
   ]
  },
  {
   "cell_type": "code",
   "execution_count": 143,
   "metadata": {},
   "outputs": [
    {
     "name": "stdout",
     "output_type": "stream",
     "text": [
      "name                                                                     Concrete Block Party\n",
      "nom_de_la_structure_c                                                             Rara Woulib\n",
      "presentation_synthetique_du_projet_c        \"Riding Block Party\" est une installation urba...\n",
      "date_de_debut_c                                                     2024-05-25T12:00:00+00:00\n",
      "date_de_fin_c                                                       2024-05-25T19:00:00+00:00\n",
      "public_adresse_c                                                                 Tous publics\n",
      "lieu_de_presentation_c                                              Place Villeneuve-Bargemon\n",
      "adresse_c                                   Place Villeneuve - Bargemon, 13002 Marseille, ...\n",
      "longitude_c                                                                 5.370179450940349\n",
      "latitude_c                                                                 43.296730600000004\n",
      "departement                                                                              13.0\n",
      "commune                                                                             Marseille\n",
      "tarif_du_projet_c                                                                     Gratuit\n",
      "veuillez_preciser_les_tarifs_du_projet_c                                                 None\n",
      "instagram_link                                      https://www.instagram.com/cie_rarawoulib/\n",
      "facebook_link                                         https://www.facebook.com/cierarawoulib/\n",
      "twitter_link                                                                             None\n",
      "discipline_principale_du_projet_c                                            [Arts de la rue]\n",
      "geolocation.lon                                                                      5.370179\n",
      "geolocation.lat                                                                     43.296731\n",
      "geolocation                                                                               NaN\n",
      "Name: 0, dtype: object\n"
     ]
    }
   ],
   "source": [
    "print(df.iloc[0])"
   ]
  },
  {
   "cell_type": "markdown",
   "metadata": {},
   "source": [
    "Il s'agit de la colonne `discipline_principale_du_projet_c`. On la convertit en `string`et on supprime les caratères inutiles."
   ]
  },
  {
   "cell_type": "code",
   "execution_count": 144,
   "metadata": {},
   "outputs": [],
   "source": [
    "df[\"discipline_principale_du_projet_c\"] =  df[\"discipline_principale_du_projet_c\"].astype(\"string\")\n",
    "df[\"discipline_principale_du_projet_c\"] = df[\"discipline_principale_du_projet_c\"].str.strip(\"['\\\"]\")\n",
    "df[\"discipline_principale_du_projet_c\"] = df[\"discipline_principale_du_projet_c\"].str.replace(\";\", \", \")"
   ]
  },
  {
   "cell_type": "code",
   "execution_count": 145,
   "metadata": {},
   "outputs": [
    {
     "name": "stdout",
     "output_type": "stream",
     "text": [
      "name                                                                     Concrete Block Party\n",
      "nom_de_la_structure_c                                                             Rara Woulib\n",
      "presentation_synthetique_du_projet_c        \"Riding Block Party\" est une installation urba...\n",
      "date_de_debut_c                                                     2024-05-25T12:00:00+00:00\n",
      "date_de_fin_c                                                       2024-05-25T19:00:00+00:00\n",
      "public_adresse_c                                                                 Tous publics\n",
      "lieu_de_presentation_c                                              Place Villeneuve-Bargemon\n",
      "adresse_c                                   Place Villeneuve - Bargemon, 13002 Marseille, ...\n",
      "longitude_c                                                                 5.370179450940349\n",
      "latitude_c                                                                 43.296730600000004\n",
      "departement                                                                              13.0\n",
      "commune                                                                             Marseille\n",
      "tarif_du_projet_c                                                                     Gratuit\n",
      "veuillez_preciser_les_tarifs_du_projet_c                                                 None\n",
      "instagram_link                                      https://www.instagram.com/cie_rarawoulib/\n",
      "facebook_link                                         https://www.facebook.com/cierarawoulib/\n",
      "twitter_link                                                                             None\n",
      "discipline_principale_du_projet_c                                              Arts de la rue\n",
      "geolocation.lon                                                                      5.370179\n",
      "geolocation.lat                                                                     43.296731\n",
      "geolocation                                                                               NaN\n",
      "Name: 0, dtype: object\n"
     ]
    }
   ],
   "source": [
    "print(df.iloc[0])"
   ]
  },
  {
   "cell_type": "markdown",
   "metadata": {},
   "source": [
    "On supprime `longitude_c`, `latitude_c` qui ne sont pas au bon format au profit de `geolocation.lon` et `geolocation.lat` (que l'on renomme). On supprime également `geolocation`."
   ]
  },
  {
   "cell_type": "code",
   "execution_count": 146,
   "metadata": {},
   "outputs": [],
   "source": [
    "df = df.drop(columns=[\"longitude_c\", \"latitude_c\", \"geolocation\"])\n",
    "df = df.rename(columns={\"geolocation.lon\": \"longitude\", \"geolocation.lat\": \"latitude\"})"
   ]
  },
  {
   "cell_type": "markdown",
   "metadata": {},
   "source": [
    "On supprime également `departement` et `commune` qui sont redondants avec l'adresse."
   ]
  },
  {
   "cell_type": "code",
   "execution_count": 147,
   "metadata": {},
   "outputs": [],
   "source": [
    "df = df.drop(columns=[\"departement\", \"commune\"])"
   ]
  },
  {
   "cell_type": "markdown",
   "metadata": {},
   "source": [
    "Certains événement n'ont pas de géolocalisation, nous choisissons de les retirer du jeux données car nous ne pourrons pas les afficher correctement dans l'application."
   ]
  },
  {
   "cell_type": "code",
   "execution_count": 149,
   "metadata": {},
   "outputs": [],
   "source": [
    "df = df.dropna()"
   ]
  },
  {
   "cell_type": "code",
   "execution_count": 152,
   "metadata": {},
   "outputs": [
    {
     "data": {
      "text/plain": [
       "['name',\n",
       " 'nom_de_la_structure_c',\n",
       " 'presentation_synthetique_du_projet_c',\n",
       " 'date_de_debut_c',\n",
       " 'date_de_fin_c',\n",
       " 'public_adresse_c',\n",
       " 'lieu_de_presentation_c',\n",
       " 'adresse_c',\n",
       " 'tarif_du_projet_c',\n",
       " 'veuillez_preciser_les_tarifs_du_projet_c',\n",
       " 'instagram_link',\n",
       " 'facebook_link',\n",
       " 'twitter_link',\n",
       " 'discipline_principale_du_projet_c',\n",
       " 'longitude',\n",
       " 'latitude']"
      ]
     },
     "execution_count": 152,
     "metadata": {},
     "output_type": "execute_result"
    }
   ],
   "source": [
    "df.columns.to_list()"
   ]
  },
  {
   "cell_type": "code",
   "execution_count": 154,
   "metadata": {},
   "outputs": [],
   "source": [
    "df = df.rename(columns={\n",
    "    \"nom_de_la_structure_c\": \"nom_structure\",\n",
    "    \"presentation_synthetique_du_projet_c\": \"presentation_projet\",\n",
    "    \"date_de_debut_c\": \"date_debut\",\n",
    "    \"date_de_fin_c\": \"date_fin\",\n",
    "    \"public_adresse_c\": \"public\",\n",
    "    \"lieu_de_presentation_c\": \"lieu_presentation\",\n",
    "    \"adresse_c\": \"addresse\",\n",
    "    \"tarif_du_projet_c\": \"tarif\",\n",
    "    \"veuillez_preciser_les_tarifs_du_projet_c\": \"detail_tarif\",\n",
    "    \"discipline_principale_du_projet_c\": \"discipline_projet\",\n",
    "})"
   ]
  },
  {
   "cell_type": "markdown",
   "metadata": {},
   "source": [
    "Le dataset est prêt à être exporté."
   ]
  },
  {
   "cell_type": "code",
   "execution_count": 156,
   "metadata": {},
   "outputs": [],
   "source": [
    "# df.to_json(\"datasets/jop2024-evenements.json\", orient=\"index\", indent=4, date_format=\"iso\")"
   ]
  }
 ],
 "metadata": {
  "kernelspec": {
   "display_name": ".venv",
   "language": "python",
   "name": "python3"
  },
  "language_info": {
   "codemirror_mode": {
    "name": "ipython",
    "version": 3
   },
   "file_extension": ".py",
   "mimetype": "text/x-python",
   "name": "python",
   "nbconvert_exporter": "python",
   "pygments_lexer": "ipython3",
   "version": "3.10.12"
  }
 },
 "nbformat": 4,
 "nbformat_minor": 2
}
